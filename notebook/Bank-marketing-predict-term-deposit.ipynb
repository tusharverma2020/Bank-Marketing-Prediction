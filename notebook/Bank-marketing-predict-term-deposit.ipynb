{
 "cells": [
  {
   "cell_type": "markdown",
   "metadata": {},
   "source": [
    "# Bank Marketing - Subscription Prediction"
   ]
  },
  {
   "cell_type": "markdown",
   "metadata": {},
   "source": [
    "*   [Introduction](#Introduction)\n",
    "    *   [Marketing](#Marketing)\n",
    "    *   [Term deposit](#Term-deposit)\n",
    "    *   [Term deposit Prediction](#Term-deposit-Prediction)\n",
    "    *   [Machine Learning Classificaion problem](#Machine-Learning-Classification-problem)\n",
    "    *   [Data Set information](#Data-Set-information)\n",
    "*   [Data Exploration](#Data-Exploration)\n",
    "    *   [Missing Data](#Missing-Data)\n",
    "    *   [Statistical Overview of available data](#Statistical-Overview-of-available-data)\n",
    "    *   [Exploring unique values](#Exploring-uniqu-values)\n",
    "    *   [Numerical Features](#Numerical-Features)\n",
    "    *   [Categorical Features](#Categorical-Features)\n",
    "*   [Feature Engineering](#Feature-Engineering)\n",
    "    *   [Labeled Encoding](#Labeled-Encoding)\n",
    "    *   [Correlation Analysis](#Correlation-Analysis)\n",
    "    *   [Dropping non-related columns](#Dropping-non-related-columns)\n",
    "    *   [Removing outliers](#Removing-outliers)\n",
    "    *   [One-Hot Encoding](#One-Hot-Encoding)\n",
    "    *   [Issue of Imbalance data](#Issue-of-Imbalance-data)\n",
    "*   [Testing Models](#Testin-Models)\n",
    "    *   [Train-Test Split](#Train-Test-Split)\n",
    "    *   [Executing Models](#Executing-Models)\n",
    "    *   [Top 3 Models](#Top-3-Models)\n",
    "    *   [Hyperparameter Tuning](#Hyperparameter-Tuning)\n",
    "*   [Finalizing the Model](#Finalizing-the-Model)\n",
    "    *   [ROC Curve](#ROC-Curve)\n",
    "    *   [Automatic Links](#autolink)\n",
    "    *   [Important Features](#Important-Features)\n",
    "    *   [Deployment of the selected model](#Deployment-of-the-selected-model)\n",
    "*   [Conclusion](#Conclusion)"
   ]
  },
  {
   "cell_type": "markdown",
   "metadata": {},
   "source": [
    "## Introduction\n",
    "- Lets try to understand the basic terminology and what are We trying to achieve in this project."
   ]
  },
  {
   "cell_type": "markdown",
   "metadata": {},
   "source": [
    "### Marketing\n",
    "The action or business of promoting and selling products or services, including market research and advertising.\n",
    "### Term deposit\n",
    "Term Deposits are one of the best investment options for people who are looking for a stable and safe return on their investments. In Term Deposits, the sum of money is kept for a fixed maturity and the depositor is not allowed to withdraw this sum till the end of the maturity period. That is why they are called as Term Deposits because they are kept up to a particular term.\n",
    "### Term deposit Prediction\n",
    "With the help of a given dataset We have to come up with such a model that should be able to predict Whether a customer will subscribe for a term deposit or not.\n",
    "### Machine Learning Classification problem\n",
    "The problem is a Machine learning Supervised classification problem as our goal is to *classify* the customers among 'Subscribers' and 'Non-Subscribers'"
   ]
  },
  {
   "cell_type": "markdown",
   "metadata": {},
   "source": [
    "## Data Set information"
   ]
  },
  {
   "cell_type": "markdown",
   "metadata": {},
   "source": [
    "The data is related with direct marketing campaigns of a Portuguese banking institution. \n",
    "The marketing campaigns were based on phone calls. Often, more than one contact to the same client was required, in order to access if the product (bank term deposit) would be ('yes') or not ('no') subscribed.\n",
    "\n",
    "The dataset bank-additional-full.csv contains all examples (45211) with 17 features, ordered by date (from May 2008 to November 2010), very close to the data analyzed in [Moro et al., 2014]\n",
    "### Attribute information\n",
    "#### Input Variables\n",
    "##### Bank Client Data\n",
    "**age:** (numeric)  \n",
    "**job:** type of job (categorical: 'admin.','blue-collar','entrepreneur','housemaid','management','retired','self-employed','services','student','technician','unemployed','unknown')  \n",
    "**marital:** marital status (categorical: 'divorced','married','single','unknown'; note: 'divorced' means divorced or widowed)  \n",
    "**education:** (categorical: primary, secondary, tertiary and unknown)  \n",
    "**default:** has credit in default? (categorical: 'no','yes')  \n",
    "**balance:** average yearly balance, in euros (numeric)   \n",
    "**housing:** has housing loan? (categorical: 'no','yes')  \n",
    "**loan:** has personal loan? (categorical: 'no','yes')  \n",
    "##### Related with the last contact of the current campaign:\n",
    "**contact:** contact communication type (categorical: 'cellular','telephone')  \n",
    "**day:** last contact day of the month (numeric)  \n",
    "**month:** last contact month of year (categorical: 'jan', 'feb', 'mar', ..., 'nov', 'dec')  \n",
    "**duration:** last contact duration, in seconds (numeric). Important note: this attribute highly affects the output target (e.g., if duration=0 then y='no'). Yet, the duration is not known before a call is performed. Also, after the end of the call y is obviously known.\n",
    "##### Other attributes:\n",
    "**campaign:** number of contacts performed during this campaign and for this client (numeric, includes last contact)  \n",
    "**pdays:** number of days that passed by after the client was last contacted from a previous campaign (numeric; -1 means client was not previously contacted)  \n",
    "**previous:** number of contacts performed before this campaign and for this client (numeric)  \n",
    "**poutcome:** outcome of the previous marketing campaign (categorical: 'failure','nonexistent','success')  \n",
    "\n",
    "#### Output variable (desired target):\n",
    "**y:** has the client subscribed a term deposit? (binary: 'yes','no')\n",
    "\n",
    "**Note:** It is mentioned in the Data Set information that thee are no missing values, but still we will run some test forr the same."
   ]
  },
  {
   "cell_type": "markdown",
   "metadata": {},
   "source": [
    "## Data Exploration  \n",
    "Here, we will try to get some insights from our data by using both traditional data exploration and modern day data visualization techniques.  \n",
    "We will be using the following libraries.\n",
    "- pandas *(for data manipulation and analysis)*\n",
    "- numpy *(to perform array and mathematics based operations)*\n",
    "- matplotlib and seaborn *(for visualization)*"
   ]
  },
  {
   "cell_type": "markdown",
   "metadata": {},
   "source": [
    "### import pandas and numpy for Data Analysis"
   ]
  },
  {
   "cell_type": "code",
   "execution_count": 1,
   "metadata": {},
   "outputs": [
    {
     "name": "stdout",
     "output_type": "stream",
     "text": [
      "Total samples:  45211\n"
     ]
    }
   ],
   "source": [
    "import pandas as pd\n",
    "import numpy as np\n",
    "import matplotlib.pyplot as plt\n",
    "import seaborn as sns\n",
    "import warnings\n",
    "\n",
    "warnings.filterwarnings('ignore')\n",
    "%matplotlib inline \n",
    "\n",
    "df = pd.read_csv('bank/bank-full.csv')\n",
    "print('Total samples: ', len(df))"
   ]
  },
  {
   "cell_type": "markdown",
   "metadata": {},
   "source": [
    "### Missing Data"
   ]
  },
  {
   "cell_type": "code",
   "execution_count": 2,
   "metadata": {},
   "outputs": [
    {
     "data": {
      "text/plain": [
       "age          0\n",
       "job          0\n",
       "marital      0\n",
       "education    0\n",
       "default      0\n",
       "balance      0\n",
       "housing      0\n",
       "loan         0\n",
       "contact      0\n",
       "day          0\n",
       "month        0\n",
       "duration     0\n",
       "campaign     0\n",
       "pdays        0\n",
       "previous     0\n",
       "poutcome     0\n",
       "y            0\n",
       "dtype: int64"
      ]
     },
     "execution_count": 2,
     "metadata": {},
     "output_type": "execute_result"
    }
   ],
   "source": [
    "df.isnull().sum()"
   ]
  },
  {
   "cell_type": "markdown",
   "metadata": {},
   "source": [
    "- The sum of missing values for each columns is 0.\n",
    "- Hence, There are no missing values."
   ]
  },
  {
   "cell_type": "markdown",
   "metadata": {},
   "source": [
    "### Statistical Overview of available data"
   ]
  },
  {
   "cell_type": "markdown",
   "metadata": {},
   "source": [
    "- We use panadas' describe function to get a *Statistical summary* of our dataframe.\n",
    "- **Note:** By default, The describe() only gives tatistical summary of numerical data."
   ]
  },
  {
   "cell_type": "code",
   "execution_count": 3,
   "metadata": {
    "scrolled": true
   },
   "outputs": [
    {
     "data": {
      "text/html": [
       "<div>\n",
       "<style scoped>\n",
       "    .dataframe tbody tr th:only-of-type {\n",
       "        vertical-align: middle;\n",
       "    }\n",
       "\n",
       "    .dataframe tbody tr th {\n",
       "        vertical-align: top;\n",
       "    }\n",
       "\n",
       "    .dataframe thead th {\n",
       "        text-align: right;\n",
       "    }\n",
       "</style>\n",
       "<table border=\"1\" class=\"dataframe\">\n",
       "  <thead>\n",
       "    <tr style=\"text-align: right;\">\n",
       "      <th></th>\n",
       "      <th>age</th>\n",
       "      <th>balance</th>\n",
       "      <th>day</th>\n",
       "      <th>duration</th>\n",
       "      <th>campaign</th>\n",
       "      <th>pdays</th>\n",
       "      <th>previous</th>\n",
       "    </tr>\n",
       "  </thead>\n",
       "  <tbody>\n",
       "    <tr>\n",
       "      <th>count</th>\n",
       "      <td>45211.000000</td>\n",
       "      <td>45211.000000</td>\n",
       "      <td>45211.000000</td>\n",
       "      <td>45211.000000</td>\n",
       "      <td>45211.000000</td>\n",
       "      <td>45211.000000</td>\n",
       "      <td>45211.000000</td>\n",
       "    </tr>\n",
       "    <tr>\n",
       "      <th>mean</th>\n",
       "      <td>40.936210</td>\n",
       "      <td>1362.272058</td>\n",
       "      <td>15.806419</td>\n",
       "      <td>258.163080</td>\n",
       "      <td>2.763841</td>\n",
       "      <td>40.197828</td>\n",
       "      <td>0.580323</td>\n",
       "    </tr>\n",
       "    <tr>\n",
       "      <th>std</th>\n",
       "      <td>10.618762</td>\n",
       "      <td>3044.765829</td>\n",
       "      <td>8.322476</td>\n",
       "      <td>257.527812</td>\n",
       "      <td>3.098021</td>\n",
       "      <td>100.128746</td>\n",
       "      <td>2.303441</td>\n",
       "    </tr>\n",
       "    <tr>\n",
       "      <th>min</th>\n",
       "      <td>18.000000</td>\n",
       "      <td>-8019.000000</td>\n",
       "      <td>1.000000</td>\n",
       "      <td>0.000000</td>\n",
       "      <td>1.000000</td>\n",
       "      <td>-1.000000</td>\n",
       "      <td>0.000000</td>\n",
       "    </tr>\n",
       "    <tr>\n",
       "      <th>25%</th>\n",
       "      <td>33.000000</td>\n",
       "      <td>72.000000</td>\n",
       "      <td>8.000000</td>\n",
       "      <td>103.000000</td>\n",
       "      <td>1.000000</td>\n",
       "      <td>-1.000000</td>\n",
       "      <td>0.000000</td>\n",
       "    </tr>\n",
       "    <tr>\n",
       "      <th>50%</th>\n",
       "      <td>39.000000</td>\n",
       "      <td>448.000000</td>\n",
       "      <td>16.000000</td>\n",
       "      <td>180.000000</td>\n",
       "      <td>2.000000</td>\n",
       "      <td>-1.000000</td>\n",
       "      <td>0.000000</td>\n",
       "    </tr>\n",
       "    <tr>\n",
       "      <th>75%</th>\n",
       "      <td>48.000000</td>\n",
       "      <td>1428.000000</td>\n",
       "      <td>21.000000</td>\n",
       "      <td>319.000000</td>\n",
       "      <td>3.000000</td>\n",
       "      <td>-1.000000</td>\n",
       "      <td>0.000000</td>\n",
       "    </tr>\n",
       "    <tr>\n",
       "      <th>max</th>\n",
       "      <td>95.000000</td>\n",
       "      <td>102127.000000</td>\n",
       "      <td>31.000000</td>\n",
       "      <td>4918.000000</td>\n",
       "      <td>63.000000</td>\n",
       "      <td>871.000000</td>\n",
       "      <td>275.000000</td>\n",
       "    </tr>\n",
       "  </tbody>\n",
       "</table>\n",
       "</div>"
      ],
      "text/plain": [
       "                age        balance           day      duration      campaign  \\\n",
       "count  45211.000000   45211.000000  45211.000000  45211.000000  45211.000000   \n",
       "mean      40.936210    1362.272058     15.806419    258.163080      2.763841   \n",
       "std       10.618762    3044.765829      8.322476    257.527812      3.098021   \n",
       "min       18.000000   -8019.000000      1.000000      0.000000      1.000000   \n",
       "25%       33.000000      72.000000      8.000000    103.000000      1.000000   \n",
       "50%       39.000000     448.000000     16.000000    180.000000      2.000000   \n",
       "75%       48.000000    1428.000000     21.000000    319.000000      3.000000   \n",
       "max       95.000000  102127.000000     31.000000   4918.000000     63.000000   \n",
       "\n",
       "              pdays      previous  \n",
       "count  45211.000000  45211.000000  \n",
       "mean      40.197828      0.580323  \n",
       "std      100.128746      2.303441  \n",
       "min       -1.000000      0.000000  \n",
       "25%       -1.000000      0.000000  \n",
       "50%       -1.000000      0.000000  \n",
       "75%       -1.000000      0.000000  \n",
       "max      871.000000    275.000000  "
      ]
     },
     "execution_count": 3,
     "metadata": {},
     "output_type": "execute_result"
    }
   ],
   "source": [
    "df.describe()"
   ]
  },
  {
   "cell_type": "code",
   "execution_count": 4,
   "metadata": {},
   "outputs": [],
   "source": [
    "# Adding a new column by name 'subscribed' to store the value '1' if subscribed, else '0' \n",
    "df['subscribed'] = (df.y == 'yes').astype('int')\n",
    "df.drop('y', axis=1, inplace=True)"
   ]
  },
  {
   "cell_type": "markdown",
   "metadata": {},
   "source": [
    "#### Quick Observations on Numerical Data\n",
    "- Total available data count is 45211 entries  \n",
    "- Mean Age of the contacted customers is 41 years (Approx)  \n",
    "- Mininmum Age of the contacted customers is 18 years\n",
    "- Maximum Age of the contacted customers is 95 years\n",
    "- Mean of call durationss is 258 seconds  \n",
    "- Mean account balance for the customers 1362 euros  \n",
    "- More than 75% of the the values in the column 'pdays' are set to -1. We know from our attribute informations that -1 means client was not previously contacted\n",
    "- Just similar to the last observation more than 75% of the values inside the columns 'previous' which indicates how many times the customer was contacted before this campaign is 0 i. e. the customer is being contactedd forr the very first time.\n",
    "- The values '-1' and '0' of the columns 'pdays' and 'previous' respectively are actually pointing towards the same fact.\n",
    "- Because of the significant redundency of '0' and '-1' in their respective columns We might drop them later if their fluctuations do not show any relation with the outcome i. e. column 'y'."
   ]
  },
  {
   "cell_type": "markdown",
   "metadata": {},
   "source": [
    "- To get the *Statistical Summary* of the available categorical data, We need to specify the same as an argument to our describe function."
   ]
  },
  {
   "cell_type": "code",
   "execution_count": 5,
   "metadata": {
    "scrolled": true
   },
   "outputs": [
    {
     "data": {
      "text/html": [
       "<div>\n",
       "<style scoped>\n",
       "    .dataframe tbody tr th:only-of-type {\n",
       "        vertical-align: middle;\n",
       "    }\n",
       "\n",
       "    .dataframe tbody tr th {\n",
       "        vertical-align: top;\n",
       "    }\n",
       "\n",
       "    .dataframe thead th {\n",
       "        text-align: right;\n",
       "    }\n",
       "</style>\n",
       "<table border=\"1\" class=\"dataframe\">\n",
       "  <thead>\n",
       "    <tr style=\"text-align: right;\">\n",
       "      <th></th>\n",
       "      <th>job</th>\n",
       "      <th>marital</th>\n",
       "      <th>education</th>\n",
       "      <th>default</th>\n",
       "      <th>housing</th>\n",
       "      <th>loan</th>\n",
       "      <th>contact</th>\n",
       "      <th>month</th>\n",
       "      <th>poutcome</th>\n",
       "    </tr>\n",
       "  </thead>\n",
       "  <tbody>\n",
       "    <tr>\n",
       "      <th>count</th>\n",
       "      <td>45211</td>\n",
       "      <td>45211</td>\n",
       "      <td>45211</td>\n",
       "      <td>45211</td>\n",
       "      <td>45211</td>\n",
       "      <td>45211</td>\n",
       "      <td>45211</td>\n",
       "      <td>45211</td>\n",
       "      <td>45211</td>\n",
       "    </tr>\n",
       "    <tr>\n",
       "      <th>unique</th>\n",
       "      <td>12</td>\n",
       "      <td>3</td>\n",
       "      <td>4</td>\n",
       "      <td>2</td>\n",
       "      <td>2</td>\n",
       "      <td>2</td>\n",
       "      <td>3</td>\n",
       "      <td>12</td>\n",
       "      <td>4</td>\n",
       "    </tr>\n",
       "    <tr>\n",
       "      <th>top</th>\n",
       "      <td>blue-collar</td>\n",
       "      <td>married</td>\n",
       "      <td>secondary</td>\n",
       "      <td>no</td>\n",
       "      <td>yes</td>\n",
       "      <td>no</td>\n",
       "      <td>cellular</td>\n",
       "      <td>may</td>\n",
       "      <td>unknown</td>\n",
       "    </tr>\n",
       "    <tr>\n",
       "      <th>freq</th>\n",
       "      <td>9732</td>\n",
       "      <td>27214</td>\n",
       "      <td>23202</td>\n",
       "      <td>44396</td>\n",
       "      <td>25130</td>\n",
       "      <td>37967</td>\n",
       "      <td>29285</td>\n",
       "      <td>13766</td>\n",
       "      <td>36959</td>\n",
       "    </tr>\n",
       "  </tbody>\n",
       "</table>\n",
       "</div>"
      ],
      "text/plain": [
       "                job  marital  education default housing   loan   contact  \\\n",
       "count         45211    45211      45211   45211   45211  45211     45211   \n",
       "unique           12        3          4       2       2      2         3   \n",
       "top     blue-collar  married  secondary      no     yes     no  cellular   \n",
       "freq           9732    27214      23202   44396   25130  37967     29285   \n",
       "\n",
       "        month poutcome  \n",
       "count   45211    45211  \n",
       "unique     12        4  \n",
       "top       may  unknown  \n",
       "freq    13766    36959  "
      ]
     },
     "execution_count": 5,
     "metadata": {},
     "output_type": "execute_result"
    }
   ],
   "source": [
    "df.describe(include='object')"
   ]
  },
  {
   "cell_type": "markdown",
   "metadata": {},
   "source": [
    "#### Quick Observation on Categorical Data\n",
    "- Out of 45211, more than 44000 i. e. 97.3% customers do not have a credit. The number of customers with credit are negligible when compared to it. We might drop this column later."
   ]
  },
  {
   "cell_type": "code",
   "execution_count": 6,
   "metadata": {},
   "outputs": [
    {
     "name": "stdout",
     "output_type": "stream",
     "text": [
      "<class 'pandas.core.frame.DataFrame'>\n",
      "RangeIndex: 45211 entries, 0 to 45210\n",
      "Data columns (total 17 columns):\n",
      " #   Column      Non-Null Count  Dtype \n",
      "---  ------      --------------  ----- \n",
      " 0   age         45211 non-null  int64 \n",
      " 1   job         45211 non-null  object\n",
      " 2   marital     45211 non-null  object\n",
      " 3   education   45211 non-null  object\n",
      " 4   default     45211 non-null  object\n",
      " 5   balance     45211 non-null  int64 \n",
      " 6   housing     45211 non-null  object\n",
      " 7   loan        45211 non-null  object\n",
      " 8   contact     45211 non-null  object\n",
      " 9   day         45211 non-null  int64 \n",
      " 10  month       45211 non-null  object\n",
      " 11  duration    45211 non-null  int64 \n",
      " 12  campaign    45211 non-null  int64 \n",
      " 13  pdays       45211 non-null  int64 \n",
      " 14  previous    45211 non-null  int64 \n",
      " 15  poutcome    45211 non-null  object\n",
      " 16  subscribed  45211 non-null  int32 \n",
      "dtypes: int32(1), int64(7), object(9)\n",
      "memory usage: 5.7+ MB\n"
     ]
    }
   ],
   "source": [
    "df.info()"
   ]
  },
  {
   "cell_type": "code",
   "execution_count": 7,
   "metadata": {},
   "outputs": [
    {
     "data": {
      "text/html": [
       "<div>\n",
       "<style scoped>\n",
       "    .dataframe tbody tr th:only-of-type {\n",
       "        vertical-align: middle;\n",
       "    }\n",
       "\n",
       "    .dataframe tbody tr th {\n",
       "        vertical-align: top;\n",
       "    }\n",
       "\n",
       "    .dataframe thead th {\n",
       "        text-align: right;\n",
       "    }\n",
       "</style>\n",
       "<table border=\"1\" class=\"dataframe\">\n",
       "  <thead>\n",
       "    <tr style=\"text-align: right;\">\n",
       "      <th></th>\n",
       "      <th>age</th>\n",
       "      <th>job</th>\n",
       "      <th>marital</th>\n",
       "      <th>education</th>\n",
       "      <th>default</th>\n",
       "      <th>balance</th>\n",
       "      <th>housing</th>\n",
       "      <th>loan</th>\n",
       "      <th>contact</th>\n",
       "      <th>day</th>\n",
       "      <th>month</th>\n",
       "      <th>duration</th>\n",
       "      <th>campaign</th>\n",
       "      <th>pdays</th>\n",
       "      <th>previous</th>\n",
       "      <th>poutcome</th>\n",
       "      <th>subscribed</th>\n",
       "    </tr>\n",
       "  </thead>\n",
       "  <tbody>\n",
       "    <tr>\n",
       "      <th>0</th>\n",
       "      <td>58</td>\n",
       "      <td>management</td>\n",
       "      <td>married</td>\n",
       "      <td>tertiary</td>\n",
       "      <td>no</td>\n",
       "      <td>2143</td>\n",
       "      <td>yes</td>\n",
       "      <td>no</td>\n",
       "      <td>unknown</td>\n",
       "      <td>5</td>\n",
       "      <td>may</td>\n",
       "      <td>261</td>\n",
       "      <td>1</td>\n",
       "      <td>-1</td>\n",
       "      <td>0</td>\n",
       "      <td>unknown</td>\n",
       "      <td>0</td>\n",
       "    </tr>\n",
       "    <tr>\n",
       "      <th>1</th>\n",
       "      <td>44</td>\n",
       "      <td>technician</td>\n",
       "      <td>single</td>\n",
       "      <td>secondary</td>\n",
       "      <td>no</td>\n",
       "      <td>29</td>\n",
       "      <td>yes</td>\n",
       "      <td>no</td>\n",
       "      <td>unknown</td>\n",
       "      <td>5</td>\n",
       "      <td>may</td>\n",
       "      <td>151</td>\n",
       "      <td>1</td>\n",
       "      <td>-1</td>\n",
       "      <td>0</td>\n",
       "      <td>unknown</td>\n",
       "      <td>0</td>\n",
       "    </tr>\n",
       "    <tr>\n",
       "      <th>2</th>\n",
       "      <td>33</td>\n",
       "      <td>entrepreneur</td>\n",
       "      <td>married</td>\n",
       "      <td>secondary</td>\n",
       "      <td>no</td>\n",
       "      <td>2</td>\n",
       "      <td>yes</td>\n",
       "      <td>yes</td>\n",
       "      <td>unknown</td>\n",
       "      <td>5</td>\n",
       "      <td>may</td>\n",
       "      <td>76</td>\n",
       "      <td>1</td>\n",
       "      <td>-1</td>\n",
       "      <td>0</td>\n",
       "      <td>unknown</td>\n",
       "      <td>0</td>\n",
       "    </tr>\n",
       "    <tr>\n",
       "      <th>3</th>\n",
       "      <td>47</td>\n",
       "      <td>blue-collar</td>\n",
       "      <td>married</td>\n",
       "      <td>unknown</td>\n",
       "      <td>no</td>\n",
       "      <td>1506</td>\n",
       "      <td>yes</td>\n",
       "      <td>no</td>\n",
       "      <td>unknown</td>\n",
       "      <td>5</td>\n",
       "      <td>may</td>\n",
       "      <td>92</td>\n",
       "      <td>1</td>\n",
       "      <td>-1</td>\n",
       "      <td>0</td>\n",
       "      <td>unknown</td>\n",
       "      <td>0</td>\n",
       "    </tr>\n",
       "    <tr>\n",
       "      <th>4</th>\n",
       "      <td>33</td>\n",
       "      <td>unknown</td>\n",
       "      <td>single</td>\n",
       "      <td>unknown</td>\n",
       "      <td>no</td>\n",
       "      <td>1</td>\n",
       "      <td>no</td>\n",
       "      <td>no</td>\n",
       "      <td>unknown</td>\n",
       "      <td>5</td>\n",
       "      <td>may</td>\n",
       "      <td>198</td>\n",
       "      <td>1</td>\n",
       "      <td>-1</td>\n",
       "      <td>0</td>\n",
       "      <td>unknown</td>\n",
       "      <td>0</td>\n",
       "    </tr>\n",
       "    <tr>\n",
       "      <th>5</th>\n",
       "      <td>35</td>\n",
       "      <td>management</td>\n",
       "      <td>married</td>\n",
       "      <td>tertiary</td>\n",
       "      <td>no</td>\n",
       "      <td>231</td>\n",
       "      <td>yes</td>\n",
       "      <td>no</td>\n",
       "      <td>unknown</td>\n",
       "      <td>5</td>\n",
       "      <td>may</td>\n",
       "      <td>139</td>\n",
       "      <td>1</td>\n",
       "      <td>-1</td>\n",
       "      <td>0</td>\n",
       "      <td>unknown</td>\n",
       "      <td>0</td>\n",
       "    </tr>\n",
       "    <tr>\n",
       "      <th>6</th>\n",
       "      <td>28</td>\n",
       "      <td>management</td>\n",
       "      <td>single</td>\n",
       "      <td>tertiary</td>\n",
       "      <td>no</td>\n",
       "      <td>447</td>\n",
       "      <td>yes</td>\n",
       "      <td>yes</td>\n",
       "      <td>unknown</td>\n",
       "      <td>5</td>\n",
       "      <td>may</td>\n",
       "      <td>217</td>\n",
       "      <td>1</td>\n",
       "      <td>-1</td>\n",
       "      <td>0</td>\n",
       "      <td>unknown</td>\n",
       "      <td>0</td>\n",
       "    </tr>\n",
       "    <tr>\n",
       "      <th>7</th>\n",
       "      <td>42</td>\n",
       "      <td>entrepreneur</td>\n",
       "      <td>divorced</td>\n",
       "      <td>tertiary</td>\n",
       "      <td>yes</td>\n",
       "      <td>2</td>\n",
       "      <td>yes</td>\n",
       "      <td>no</td>\n",
       "      <td>unknown</td>\n",
       "      <td>5</td>\n",
       "      <td>may</td>\n",
       "      <td>380</td>\n",
       "      <td>1</td>\n",
       "      <td>-1</td>\n",
       "      <td>0</td>\n",
       "      <td>unknown</td>\n",
       "      <td>0</td>\n",
       "    </tr>\n",
       "    <tr>\n",
       "      <th>8</th>\n",
       "      <td>58</td>\n",
       "      <td>retired</td>\n",
       "      <td>married</td>\n",
       "      <td>primary</td>\n",
       "      <td>no</td>\n",
       "      <td>121</td>\n",
       "      <td>yes</td>\n",
       "      <td>no</td>\n",
       "      <td>unknown</td>\n",
       "      <td>5</td>\n",
       "      <td>may</td>\n",
       "      <td>50</td>\n",
       "      <td>1</td>\n",
       "      <td>-1</td>\n",
       "      <td>0</td>\n",
       "      <td>unknown</td>\n",
       "      <td>0</td>\n",
       "    </tr>\n",
       "    <tr>\n",
       "      <th>9</th>\n",
       "      <td>43</td>\n",
       "      <td>technician</td>\n",
       "      <td>single</td>\n",
       "      <td>secondary</td>\n",
       "      <td>no</td>\n",
       "      <td>593</td>\n",
       "      <td>yes</td>\n",
       "      <td>no</td>\n",
       "      <td>unknown</td>\n",
       "      <td>5</td>\n",
       "      <td>may</td>\n",
       "      <td>55</td>\n",
       "      <td>1</td>\n",
       "      <td>-1</td>\n",
       "      <td>0</td>\n",
       "      <td>unknown</td>\n",
       "      <td>0</td>\n",
       "    </tr>\n",
       "  </tbody>\n",
       "</table>\n",
       "</div>"
      ],
      "text/plain": [
       "   age           job   marital  education default  balance housing loan  \\\n",
       "0   58    management   married   tertiary      no     2143     yes   no   \n",
       "1   44    technician    single  secondary      no       29     yes   no   \n",
       "2   33  entrepreneur   married  secondary      no        2     yes  yes   \n",
       "3   47   blue-collar   married    unknown      no     1506     yes   no   \n",
       "4   33       unknown    single    unknown      no        1      no   no   \n",
       "5   35    management   married   tertiary      no      231     yes   no   \n",
       "6   28    management    single   tertiary      no      447     yes  yes   \n",
       "7   42  entrepreneur  divorced   tertiary     yes        2     yes   no   \n",
       "8   58       retired   married    primary      no      121     yes   no   \n",
       "9   43    technician    single  secondary      no      593     yes   no   \n",
       "\n",
       "   contact  day month  duration  campaign  pdays  previous poutcome  \\\n",
       "0  unknown    5   may       261         1     -1         0  unknown   \n",
       "1  unknown    5   may       151         1     -1         0  unknown   \n",
       "2  unknown    5   may        76         1     -1         0  unknown   \n",
       "3  unknown    5   may        92         1     -1         0  unknown   \n",
       "4  unknown    5   may       198         1     -1         0  unknown   \n",
       "5  unknown    5   may       139         1     -1         0  unknown   \n",
       "6  unknown    5   may       217         1     -1         0  unknown   \n",
       "7  unknown    5   may       380         1     -1         0  unknown   \n",
       "8  unknown    5   may        50         1     -1         0  unknown   \n",
       "9  unknown    5   may        55         1     -1         0  unknown   \n",
       "\n",
       "   subscribed  \n",
       "0           0  \n",
       "1           0  \n",
       "2           0  \n",
       "3           0  \n",
       "4           0  \n",
       "5           0  \n",
       "6           0  \n",
       "7           0  \n",
       "8           0  \n",
       "9           0  "
      ]
     },
     "execution_count": 7,
     "metadata": {},
     "output_type": "execute_result"
    }
   ],
   "source": [
    "df.head(10)"
   ]
  },
  {
   "cell_type": "code",
   "execution_count": 8,
   "metadata": {},
   "outputs": [
    {
     "data": {
      "text/plain": [
       "(45211, 17)"
      ]
     },
     "execution_count": 8,
     "metadata": {},
     "output_type": "execute_result"
    }
   ],
   "source": [
    "df.shape"
   ]
  },
  {
   "cell_type": "code",
   "execution_count": 9,
   "metadata": {
    "scrolled": true
   },
   "outputs": [
    {
     "data": {
      "text/plain": [
       "subscribed\n",
       "0    39922\n",
       "1     5289\n",
       "dtype: int64"
      ]
     },
     "execution_count": 9,
     "metadata": {},
     "output_type": "execute_result"
    }
   ],
   "source": [
    "df.groupby('subscribed').size()"
   ]
  },
  {
   "cell_type": "markdown",
   "metadata": {},
   "source": [
    "- Let's have a look at how the data is distributed between subscribers and Non-Subscriber."
   ]
  },
  {
   "cell_type": "code",
   "execution_count": 10,
   "metadata": {},
   "outputs": [
    {
     "data": {
      "text/plain": [
       "<AxesSubplot:xlabel='subscribed', ylabel='count'>"
      ]
     },
     "execution_count": 10,
     "metadata": {},
     "output_type": "execute_result"
    },
    {
     "data": {
      "image/png": "[encoded data removed]",
      "text/plain": [
       "<Figure size 432x288 with 1 Axes>"
      ]
     },
     "metadata": {
      "needs_background": "light"
     },
     "output_type": "display_data"
    }
   ],
   "source": [
    "sns.countplot(x=df['subscribed'], data=df)"
   ]
  },
  {
   "cell_type": "markdown",
   "metadata": {},
   "source": [
    "**Quick Observation** \n",
    "- 5289 Out of 45211 contacted customers subscribed"
   ]
  },
  {
   "cell_type": "code",
   "execution_count": 11,
   "metadata": {},
   "outputs": [
    {
     "data": {
      "text/plain": [
       "Index(['age', 'job', 'marital', 'education', 'default', 'balance', 'housing',\n",
       "       'loan', 'contact', 'day', 'month', 'duration', 'campaign', 'pdays',\n",
       "       'previous', 'poutcome', 'subscribed'],\n",
       "      dtype='object')"
      ]
     },
     "execution_count": 11,
     "metadata": {},
     "output_type": "execute_result"
    }
   ],
   "source": [
    "df.keys()"
   ]
  },
  {
   "cell_type": "markdown",
   "metadata": {},
   "source": [
    "### Exploring unique values\n",
    "- Checking if there are any unnecessary columns i.e. Columns with same type of informtion\n",
    "- Finding categorical varieties"
   ]
  },
  {
   "cell_type": "code",
   "execution_count": 12,
   "metadata": {},
   "outputs": [
    {
     "data": {
      "text/html": [
       "<div>\n",
       "<style scoped>\n",
       "    .dataframe tbody tr th:only-of-type {\n",
       "        vertical-align: middle;\n",
       "    }\n",
       "\n",
       "    .dataframe tbody tr th {\n",
       "        vertical-align: top;\n",
       "    }\n",
       "\n",
       "    .dataframe thead th {\n",
       "        text-align: right;\n",
       "    }\n",
       "</style>\n",
       "<table border=\"1\" class=\"dataframe\">\n",
       "  <thead>\n",
       "    <tr style=\"text-align: right;\">\n",
       "      <th></th>\n",
       "      <th>age</th>\n",
       "      <th>job</th>\n",
       "      <th>marital</th>\n",
       "      <th>education</th>\n",
       "      <th>default</th>\n",
       "      <th>balance</th>\n",
       "      <th>housing</th>\n",
       "      <th>loan</th>\n",
       "      <th>contact</th>\n",
       "      <th>day</th>\n",
       "    </tr>\n",
       "  </thead>\n",
       "  <tbody>\n",
       "    <tr>\n",
       "      <th>0</th>\n",
       "      <td>58</td>\n",
       "      <td>management</td>\n",
       "      <td>married</td>\n",
       "      <td>tertiary</td>\n",
       "      <td>no</td>\n",
       "      <td>2143</td>\n",
       "      <td>yes</td>\n",
       "      <td>no</td>\n",
       "      <td>unknown</td>\n",
       "      <td>5</td>\n",
       "    </tr>\n",
       "    <tr>\n",
       "      <th>1</th>\n",
       "      <td>44</td>\n",
       "      <td>technician</td>\n",
       "      <td>single</td>\n",
       "      <td>secondary</td>\n",
       "      <td>no</td>\n",
       "      <td>29</td>\n",
       "      <td>yes</td>\n",
       "      <td>no</td>\n",
       "      <td>unknown</td>\n",
       "      <td>5</td>\n",
       "    </tr>\n",
       "    <tr>\n",
       "      <th>2</th>\n",
       "      <td>33</td>\n",
       "      <td>entrepreneur</td>\n",
       "      <td>married</td>\n",
       "      <td>secondary</td>\n",
       "      <td>no</td>\n",
       "      <td>2</td>\n",
       "      <td>yes</td>\n",
       "      <td>yes</td>\n",
       "      <td>unknown</td>\n",
       "      <td>5</td>\n",
       "    </tr>\n",
       "    <tr>\n",
       "      <th>3</th>\n",
       "      <td>47</td>\n",
       "      <td>blue-collar</td>\n",
       "      <td>married</td>\n",
       "      <td>unknown</td>\n",
       "      <td>no</td>\n",
       "      <td>1506</td>\n",
       "      <td>yes</td>\n",
       "      <td>no</td>\n",
       "      <td>unknown</td>\n",
       "      <td>5</td>\n",
       "    </tr>\n",
       "    <tr>\n",
       "      <th>4</th>\n",
       "      <td>33</td>\n",
       "      <td>unknown</td>\n",
       "      <td>single</td>\n",
       "      <td>unknown</td>\n",
       "      <td>no</td>\n",
       "      <td>1</td>\n",
       "      <td>no</td>\n",
       "      <td>no</td>\n",
       "      <td>unknown</td>\n",
       "      <td>5</td>\n",
       "    </tr>\n",
       "  </tbody>\n",
       "</table>\n",
       "</div>"
      ],
      "text/plain": [
       "   age           job  marital  education default  balance housing loan  \\\n",
       "0   58    management  married   tertiary      no     2143     yes   no   \n",
       "1   44    technician   single  secondary      no       29     yes   no   \n",
       "2   33  entrepreneur  married  secondary      no        2     yes  yes   \n",
       "3   47   blue-collar  married    unknown      no     1506     yes   no   \n",
       "4   33       unknown   single    unknown      no        1      no   no   \n",
       "\n",
       "   contact  day  \n",
       "0  unknown    5  \n",
       "1  unknown    5  \n",
       "2  unknown    5  \n",
       "3  unknown    5  \n",
       "4  unknown    5  "
      ]
     },
     "execution_count": 12,
     "metadata": {},
     "output_type": "execute_result"
    }
   ],
   "source": [
    "df[list(df.columns)[:10]].head()"
   ]
  },
  {
   "cell_type": "code",
   "execution_count": 13,
   "metadata": {},
   "outputs": [
    {
     "data": {
      "text/html": [
       "<div>\n",
       "<style scoped>\n",
       "    .dataframe tbody tr th:only-of-type {\n",
       "        vertical-align: middle;\n",
       "    }\n",
       "\n",
       "    .dataframe tbody tr th {\n",
       "        vertical-align: top;\n",
       "    }\n",
       "\n",
       "    .dataframe thead th {\n",
       "        text-align: right;\n",
       "    }\n",
       "</style>\n",
       "<table border=\"1\" class=\"dataframe\">\n",
       "  <thead>\n",
       "    <tr style=\"text-align: right;\">\n",
       "      <th></th>\n",
       "      <th>month</th>\n",
       "      <th>duration</th>\n",
       "      <th>campaign</th>\n",
       "      <th>pdays</th>\n",
       "      <th>previous</th>\n",
       "      <th>poutcome</th>\n",
       "      <th>subscribed</th>\n",
       "    </tr>\n",
       "  </thead>\n",
       "  <tbody>\n",
       "    <tr>\n",
       "      <th>0</th>\n",
       "      <td>may</td>\n",
       "      <td>261</td>\n",
       "      <td>1</td>\n",
       "      <td>-1</td>\n",
       "      <td>0</td>\n",
       "      <td>unknown</td>\n",
       "      <td>0</td>\n",
       "    </tr>\n",
       "    <tr>\n",
       "      <th>1</th>\n",
       "      <td>may</td>\n",
       "      <td>151</td>\n",
       "      <td>1</td>\n",
       "      <td>-1</td>\n",
       "      <td>0</td>\n",
       "      <td>unknown</td>\n",
       "      <td>0</td>\n",
       "    </tr>\n",
       "    <tr>\n",
       "      <th>2</th>\n",
       "      <td>may</td>\n",
       "      <td>76</td>\n",
       "      <td>1</td>\n",
       "      <td>-1</td>\n",
       "      <td>0</td>\n",
       "      <td>unknown</td>\n",
       "      <td>0</td>\n",
       "    </tr>\n",
       "    <tr>\n",
       "      <th>3</th>\n",
       "      <td>may</td>\n",
       "      <td>92</td>\n",
       "      <td>1</td>\n",
       "      <td>-1</td>\n",
       "      <td>0</td>\n",
       "      <td>unknown</td>\n",
       "      <td>0</td>\n",
       "    </tr>\n",
       "    <tr>\n",
       "      <th>4</th>\n",
       "      <td>may</td>\n",
       "      <td>198</td>\n",
       "      <td>1</td>\n",
       "      <td>-1</td>\n",
       "      <td>0</td>\n",
       "      <td>unknown</td>\n",
       "      <td>0</td>\n",
       "    </tr>\n",
       "  </tbody>\n",
       "</table>\n",
       "</div>"
      ],
      "text/plain": [
       "  month  duration  campaign  pdays  previous poutcome  subscribed\n",
       "0   may       261         1     -1         0  unknown           0\n",
       "1   may       151         1     -1         0  unknown           0\n",
       "2   may        76         1     -1         0  unknown           0\n",
       "3   may        92         1     -1         0  unknown           0\n",
       "4   may       198         1     -1         0  unknown           0"
      ]
     },
     "execution_count": 13,
     "metadata": {},
     "output_type": "execute_result"
    }
   ],
   "source": [
    "df[list(df.columns)[10:]].head()"
   ]
  },
  {
   "cell_type": "code",
   "execution_count": 14,
   "metadata": {},
   "outputs": [
    {
     "data": {
      "text/plain": [
       "(45211, 17)"
      ]
     },
     "execution_count": 14,
     "metadata": {},
     "output_type": "execute_result"
    }
   ],
   "source": [
    "df.shape"
   ]
  },
  {
   "cell_type": "code",
   "execution_count": 15,
   "metadata": {},
   "outputs": [
    {
     "name": "stdout",
     "output_type": "stream",
     "text": [
      "age : 77 unique values\n",
      "job : 12 unique values\n",
      "marital : 3 unique values\n",
      "education : 4 unique values\n",
      "default : 2 unique values\n",
      "balance : 7168 unique values\n",
      "housing : 2 unique values\n",
      "loan : 2 unique values\n",
      "contact : 3 unique values\n",
      "day : 31 unique values\n",
      "month : 12 unique values\n",
      "duration : 1573 unique values\n",
      "campaign : 48 unique values\n",
      "pdays : 559 unique values\n",
      "previous : 41 unique values\n",
      "poutcome : 4 unique values\n",
      "subscribed : 2 unique values\n"
     ]
    }
   ],
   "source": [
    "# check unique values for every column\n",
    "for feature in df.columns:\n",
    "    print(f'{feature} : {df[feature].nunique()} unique values')"
   ]
  },
  {
   "cell_type": "code",
   "execution_count": 16,
   "metadata": {
    "scrolled": false
   },
   "outputs": [
    {
     "name": "stdout",
     "output_type": "stream",
     "text": [
      "job : 12\n",
      "['management' 'technician' 'entrepreneur' 'blue-collar' 'unknown'\n",
      " 'retired' 'admin.' 'services' 'self-employed' 'unemployed' 'housemaid'\n",
      " 'student']\n",
      "marital : 3\n",
      "['married' 'single' 'divorced']\n",
      "education : 4\n",
      "['tertiary' 'secondary' 'unknown' 'primary']\n",
      "default : 2\n",
      "['no' 'yes']\n",
      "housing : 2\n",
      "['yes' 'no']\n",
      "loan : 2\n",
      "['no' 'yes']\n",
      "contact : 3\n",
      "['unknown' 'cellular' 'telephone']\n",
      "month : 12\n",
      "['may' 'jun' 'jul' 'aug' 'oct' 'nov' 'dec' 'jan' 'feb' 'mar' 'apr' 'sep']\n",
      "poutcome : 4\n",
      "['unknown' 'failure' 'other' 'success']\n",
      "subscribed : 2\n",
      "[0 1]\n"
     ]
    }
   ],
   "source": [
    "# for every column\n",
    "for feature in df.columns:\n",
    "    number_of_unique_values = df[feature].nunique()\n",
    "    if number_of_unique_values < 15:\n",
    "        print(f'{feature} : {number_of_unique_values}\\n{df[feature].unique()}')"
   ]
  },
  {
   "cell_type": "markdown",
   "metadata": {},
   "source": [
    "### Numerical Features"
   ]
  },
  {
   "cell_type": "code",
   "execution_count": 17,
   "metadata": {},
   "outputs": [
    {
     "data": {
      "text/plain": [
       "['age', 'balance', 'day', 'duration', 'campaign', 'pdays', 'previous']"
      ]
     },
     "execution_count": 17,
     "metadata": {},
     "output_type": "execute_result"
    }
   ],
   "source": [
    "numerical_data = [data for data in df.dtypes[df.dtypes == 'int64'].index]\n",
    "numerical_data"
   ]
  },
  {
   "cell_type": "code",
   "execution_count": 18,
   "metadata": {},
   "outputs": [
    {
     "data": {
      "text/plain": [
       "age         0\n",
       "balance     0\n",
       "day         0\n",
       "duration    0\n",
       "campaign    0\n",
       "pdays       0\n",
       "previous    0\n",
       "dtype: int64"
      ]
     },
     "execution_count": 18,
     "metadata": {},
     "output_type": "execute_result"
    }
   ],
   "source": [
    "df[numerical_data].isnull().sum()"
   ]
  },
  {
   "cell_type": "code",
   "execution_count": 19,
   "metadata": {},
   "outputs": [
    {
     "data": {
      "text/html": [
       "<div>\n",
       "<style scoped>\n",
       "    .dataframe tbody tr th:only-of-type {\n",
       "        vertical-align: middle;\n",
       "    }\n",
       "\n",
       "    .dataframe tbody tr th {\n",
       "        vertical-align: top;\n",
       "    }\n",
       "\n",
       "    .dataframe thead th {\n",
       "        text-align: right;\n",
       "    }\n",
       "</style>\n",
       "<table border=\"1\" class=\"dataframe\">\n",
       "  <thead>\n",
       "    <tr style=\"text-align: right;\">\n",
       "      <th></th>\n",
       "      <th>age</th>\n",
       "      <th>balance</th>\n",
       "      <th>day</th>\n",
       "      <th>duration</th>\n",
       "      <th>campaign</th>\n",
       "      <th>pdays</th>\n",
       "      <th>previous</th>\n",
       "    </tr>\n",
       "  </thead>\n",
       "  <tbody>\n",
       "    <tr>\n",
       "      <th>0</th>\n",
       "      <td>58</td>\n",
       "      <td>2143</td>\n",
       "      <td>5</td>\n",
       "      <td>261</td>\n",
       "      <td>1</td>\n",
       "      <td>-1</td>\n",
       "      <td>0</td>\n",
       "    </tr>\n",
       "    <tr>\n",
       "      <th>1</th>\n",
       "      <td>44</td>\n",
       "      <td>29</td>\n",
       "      <td>5</td>\n",
       "      <td>151</td>\n",
       "      <td>1</td>\n",
       "      <td>-1</td>\n",
       "      <td>0</td>\n",
       "    </tr>\n",
       "    <tr>\n",
       "      <th>2</th>\n",
       "      <td>33</td>\n",
       "      <td>2</td>\n",
       "      <td>5</td>\n",
       "      <td>76</td>\n",
       "      <td>1</td>\n",
       "      <td>-1</td>\n",
       "      <td>0</td>\n",
       "    </tr>\n",
       "    <tr>\n",
       "      <th>3</th>\n",
       "      <td>47</td>\n",
       "      <td>1506</td>\n",
       "      <td>5</td>\n",
       "      <td>92</td>\n",
       "      <td>1</td>\n",
       "      <td>-1</td>\n",
       "      <td>0</td>\n",
       "    </tr>\n",
       "    <tr>\n",
       "      <th>4</th>\n",
       "      <td>33</td>\n",
       "      <td>1</td>\n",
       "      <td>5</td>\n",
       "      <td>198</td>\n",
       "      <td>1</td>\n",
       "      <td>-1</td>\n",
       "      <td>0</td>\n",
       "    </tr>\n",
       "  </tbody>\n",
       "</table>\n",
       "</div>"
      ],
      "text/plain": [
       "   age  balance  day  duration  campaign  pdays  previous\n",
       "0   58     2143    5       261         1     -1         0\n",
       "1   44       29    5       151         1     -1         0\n",
       "2   33        2    5        76         1     -1         0\n",
       "3   47     1506    5        92         1     -1         0\n",
       "4   33        1    5       198         1     -1         0"
      ]
     },
     "execution_count": 19,
     "metadata": {},
     "output_type": "execute_result"
    }
   ],
   "source": [
    "df[numerical_data].head()"
   ]
  },
  {
   "cell_type": "markdown",
   "metadata": {},
   "source": [
    "### Distribution of values for each numerical column."
   ]
  },
  {
   "cell_type": "code",
   "execution_count": 20,
   "metadata": {
    "scrolled": false
   },
   "outputs": [
    {
     "data": {
      "image/png": "[encoded data removed]",
      "text/plain": [
       "<Figure size 864x288 with 2 Axes>"
      ]
     },
     "metadata": {
      "needs_background": "light"
     },
     "output_type": "display_data"
    },
    {
     "data": {
      "image/png": "[encoded data removed]",
      "text/plain": [
       "<Figure size 864x288 with 2 Axes>"
      ]
     },
     "metadata": {
      "needs_background": "light"
     },
     "output_type": "display_data"
    },
    {
     "data": {
      "image/png": "[encoded data removed]",
      "text/plain": [
       "<Figure size 864x288 with 2 Axes>"
      ]
     },
     "metadata": {
      "needs_background": "light"
     },
     "output_type": "display_data"
    },
    {
     "data": {
      "image/png": "[encoded data removed]",
      "text/plain": [
       "<Figure size 864x288 with 2 Axes>"
      ]
     },
     "metadata": {
      "needs_background": "light"
     },
     "output_type": "display_data"
    },
    {
     "data": {
      "image/png": "[encoded data removed]",
      "text/plain": [
       "<Figure size 864x288 with 2 Axes>"
      ]
     },
     "metadata": {
      "needs_background": "light"
     },
     "output_type": "display_data"
    },
    {
     "data": {
      "image/png": "[encoded data removed]",
      "text/plain": [
       "<Figure size 864x288 with 2 Axes>"
      ]
     },
     "metadata": {
      "needs_background": "light"
     },
     "output_type": "display_data"
    },
    {
     "data": {
      "image/png": "[encoded data removed]",
      "text/plain": [
       "<Figure size 864x288 with 2 Axes>"
      ]
     },
     "metadata": {
      "needs_background": "light"
     },
     "output_type": "display_data"
    }
   ],
   "source": [
    "#creating distribution and box plots\n",
    "for col in numerical_data : \n",
    "    plt.figure(figsize=(12,4))\n",
    "    \n",
    "    plt.subplot(1,2,1)\n",
    "    sns.distplot(df[col])\n",
    "    plt.xlabel(col)\n",
    "    plt.ylabel('Density')\n",
    "    \n",
    "    plt.subplot(1,2,2)\n",
    "    sns.boxplot(x='subscribed', y = col, data =df, showmeans = True)\n",
    "    plt.xlabel('Subscribed')\n",
    "    plt.ylabel(col)\n",
    "    \n",
    "    plt.show()"
   ]
  },
  {
   "cell_type": "markdown",
   "metadata": {},
   "source": [
    "**Observations:** \n",
    "- From the Density and boxplot shown above we can say that the customerrs with longer call durations are more likely to subscribe for the term deposit\n",
    "- Most of the customers who actually subscribed were contacted for the very first time\n",
    "- Except for the column of age and days, all the other numerical features seems to be left skewed."
   ]
  },
  {
   "cell_type": "markdown",
   "metadata": {},
   "source": [
    "### Exploring the frequencies of Numerical features with Count plots"
   ]
  },
  {
   "cell_type": "code",
   "execution_count": 21,
   "metadata": {
    "scrolled": false
   },
   "outputs": [
    {
     "data": {
      "image/png": "[encoded data removed]",
      "text/plain": [
       "<Figure size 1440x720 with 1 Axes>"
      ]
     },
     "metadata": {
      "needs_background": "light"
     },
     "output_type": "display_data"
    },
    {
     "data": {
      "image/png": "[encoded data removed]",
      "text/plain": [
       "<Figure size 1440x720 with 1 Axes>"
      ]
     },
     "metadata": {
      "needs_background": "light"
     },
     "output_type": "display_data"
    },
    {
     "data": {
      "image/png": "[encoded data removed]",
      "text/plain": [
       "<Figure size 1440x720 with 1 Axes>"
      ]
     },
     "metadata": {
      "needs_background": "light"
     },
     "output_type": "display_data"
    },
    {
     "data": {
      "image/png": "[encoded data removed]",
      "text/plain": [
       "<Figure size 1440x720 with 1 Axes>"
      ]
     },
     "metadata": {
      "needs_background": "light"
     },
     "output_type": "display_data"
    }
   ],
   "source": [
    "plt.rcParams.update({'font.size': 11})\n",
    "for col in numerical_data : \n",
    "    if col not in ['balance', 'duration', 'pdays']:\n",
    "        plt.figure(figsize=(20,10))\n",
    "        plt.subplot().patch.set_visible(False)\n",
    "        sns.countplot(x = df[col], data = df)\n",
    "        plt.xlabel(col.title())\n",
    "        plt.ylabel('Count')\n",
    "\n",
    "        plt.show()"
   ]
  },
  {
   "cell_type": "markdown",
   "metadata": {},
   "source": [
    "- The values for columns Balance, duration, and pdays are distributed at larger intervals hence can be visualized with histograms."
   ]
  },
  {
   "cell_type": "code",
   "execution_count": 22,
   "metadata": {},
   "outputs": [
    {
     "data": {
      "image/png": "[encoded data removed]",
      "text/plain": [
       "<Figure size 1440x360 with 2 Axes>"
      ]
     },
     "metadata": {
      "needs_background": "light"
     },
     "output_type": "display_data"
    },
    {
     "data": {
      "image/png": "[encoded data removed]",
      "text/plain": [
       "<Figure size 432x288 with 1 Axes>"
      ]
     },
     "metadata": {
      "needs_background": "light"
     },
     "output_type": "display_data"
    }
   ],
   "source": [
    "plt.subplots(figsize=(20,5)) \n",
    "plt.rcParams.update({'font.size': 12})\n",
    "    \n",
    "plt.subplot(1, 2, 1)\n",
    "sns.histplot(x = df['balance'], data = df)\n",
    "plt.ylabel('Count')\n",
    "\n",
    "plt.subplot(1, 2, 2)\n",
    "sns.histplot(x = df['duration'], data = df)\n",
    "plt.ylabel('Count')\n",
    "plt.show()\n",
    "\n",
    "plt.subplot()\n",
    "sns.histplot(x = df['pdays'], data = df)\n",
    "plt.ylabel('Count')\n",
    "\n",
    "plt.show()"
   ]
  },
  {
   "cell_type": "markdown",
   "metadata": {},
   "source": [
    "**Observations**\n",
    "- The maximum targeted age group is 30 to 37 Years old with more than 2000 people of age 32\n",
    "- More than 2500 people were contacted on 20th day of the month\n",
    "- more than 17500 customers were contacted only once during the campaign"
   ]
  },
  {
   "cell_type": "markdown",
   "metadata": {},
   "source": [
    "## Categorical Features\n",
    "\n",
    "Categorical variables are non-numeric data such as job and education. To turn these non-numerical data into variables, the simplest thing is to use a technique called one-hot encoding, which will be explained below."
   ]
  },
  {
   "cell_type": "code",
   "execution_count": 23,
   "metadata": {},
   "outputs": [
    {
     "data": {
      "text/plain": [
       "['job',\n",
       " 'marital',\n",
       " 'education',\n",
       " 'default',\n",
       " 'housing',\n",
       " 'loan',\n",
       " 'contact',\n",
       " 'month',\n",
       " 'poutcome']"
      ]
     },
     "execution_count": 23,
     "metadata": {},
     "output_type": "execute_result"
    }
   ],
   "source": [
    "object_data = [data for data in df.dtypes[df.dtypes == 'object'].index]\n",
    "object_data"
   ]
  },
  {
   "cell_type": "markdown",
   "metadata": {},
   "source": [
    "### Graphical Representation of Categorical Features\n",
    "- Using countplots to check the frequencies of values for each category"
   ]
  },
  {
   "cell_type": "code",
   "execution_count": 24,
   "metadata": {},
   "outputs": [
    {
     "data": {
      "image/png": "[encoded data removed]",
      "text/plain": [
       "<Figure size 1152x288 with 1 Axes>"
      ]
     },
     "metadata": {
      "needs_background": "light"
     },
     "output_type": "display_data"
    },
    {
     "data": {
      "image/png": "[encoded data removed]",
      "text/plain": [
       "<Figure size 1152x288 with 2 Axes>"
      ]
     },
     "metadata": {
      "needs_background": "light"
     },
     "output_type": "display_data"
    },
    {
     "data": {
      "image/png": "[encoded data removed]",
      "text/plain": [
       "<Figure size 1152x288 with 2 Axes>"
      ]
     },
     "metadata": {
      "needs_background": "light"
     },
     "output_type": "display_data"
    },
    {
     "data": {
      "image/png": "[encoded data removed]",
      "text/plain": [
       "<Figure size 1152x288 with 2 Axes>"
      ]
     },
     "metadata": {
      "needs_background": "light"
     },
     "output_type": "display_data"
    },
    {
     "data": {
      "image/png": "[encoded data removed]",
      "text/plain": [
       "<Figure size 1152x288 with 2 Axes>"
      ]
     },
     "metadata": {
      "needs_background": "light"
     },
     "output_type": "display_data"
    }
   ],
   "source": [
    "plt.rcParams.update({'font.size': 11})\n",
    "\n",
    "plt.figure(figsize=(16,4))\n",
    "plt.subplot().patch.set_visible(False)\n",
    "sns.countplot(x = df['job'], data = df)\n",
    "plt.xlabel('Job')\n",
    "plt.ylabel('Count')\n",
    "\n",
    "plt.rcParams.update({'font.size': 16})\n",
    "\n",
    "for col in range(1, len(object_data) - 1, 2): \n",
    "    plt.figure(figsize=(16,4))\n",
    "    col_index = col\n",
    "    column_name = object_data[col_index]\n",
    "    col_index += 1\n",
    "    plt.subplot(1, 2, 1).patch.set_visible(False)\n",
    "    sns.countplot(x = df[column_name], data = df)\n",
    "    plt.xlabel(column_name.title())\n",
    "    plt.ylabel('Count')\n",
    "                 \n",
    "    plt.subplot(1, 2, 2)\n",
    "    column_name = object_data[col_index]\n",
    "    sns.countplot(x = df[column_name], data = df)\n",
    "    plt.xlabel(column_name.title())\n",
    "    plt.ylabel('Count')\n",
    "    \n",
    "    plt.show()"
   ]
  },
  {
   "cell_type": "markdown",
   "metadata": {},
   "source": [
    "- Showcasing the above data in tabular form"
   ]
  },
  {
   "cell_type": "code",
   "execution_count": 25,
   "metadata": {},
   "outputs": [
    {
     "name": "stdout",
     "output_type": "stream",
     "text": [
      "job\n",
      "admin.           5171\n",
      "blue-collar      9732\n",
      "entrepreneur     1487\n",
      "housemaid        1240\n",
      "management       9458\n",
      "retired          2264\n",
      "self-employed    1579\n",
      "services         4154\n",
      "student           938\n",
      "technician       7597\n",
      "unemployed       1303\n",
      "unknown           288\n",
      "dtype: int64\n",
      "\n",
      "marital\n",
      "divorced     5207\n",
      "married     27214\n",
      "single      12790\n",
      "dtype: int64\n",
      "\n",
      "education\n",
      "primary       6851\n",
      "secondary    23202\n",
      "tertiary     13301\n",
      "unknown       1857\n",
      "dtype: int64\n",
      "\n",
      "default\n",
      "no     44396\n",
      "yes      815\n",
      "dtype: int64\n",
      "\n",
      "housing\n",
      "no     20081\n",
      "yes    25130\n",
      "dtype: int64\n",
      "\n",
      "loan\n",
      "no     37967\n",
      "yes     7244\n",
      "dtype: int64\n",
      "\n",
      "contact\n",
      "cellular     29285\n",
      "telephone     2906\n",
      "unknown      13020\n",
      "dtype: int64\n",
      "\n",
      "month\n",
      "apr     2932\n",
      "aug     6247\n",
      "dec      214\n",
      "feb     2649\n",
      "jan     1403\n",
      "jul     6895\n",
      "jun     5341\n",
      "mar      477\n",
      "may    13766\n",
      "nov     3970\n",
      "oct      738\n",
      "sep      579\n",
      "dtype: int64\n",
      "\n",
      "poutcome\n",
      "failure     4901\n",
      "other       1840\n",
      "success     1511\n",
      "unknown    36959\n",
      "dtype: int64\n",
      "\n"
     ]
    }
   ],
   "source": [
    "# frequency of particular value in a columns where \n",
    "for column in object_data:\n",
    "    print(f'{df.groupby(column).size()}\\n')"
   ]
  },
  {
   "cell_type": "markdown",
   "metadata": {},
   "source": [
    "**Observations**\n",
    "- We can see the most of the targeted customers are either in management or are blue-coller (9000+ each)\n",
    "- More than 25000 of the customers are married\n",
    "- 20000+ customers have received secondary education\n",
    "- 40000+ customers do not have any credit\n",
    "- Around 25000+ have taken a housing loan\n",
    "- 35000+ People do not have any kind of personal loan\n",
    "- Around 30000+ people were contacted over cellular phones\n",
    "- Most of the customers were contacted in the month of May\n",
    "- Most of the people are being contacted for the very first time hence most of the values in the column poutcomee are unknown\n",
    "- 5289 Out of 45211 contacted customers subscribed"
   ]
  },
  {
   "cell_type": "markdown",
   "metadata": {},
   "source": [
    "**Let's see distribution of subscribers and non-subscribers for categorical values**"
   ]
  },
  {
   "cell_type": "code",
   "execution_count": 26,
   "metadata": {
    "scrolled": false
   },
   "outputs": [
    {
     "data": {
      "image/png": "[encoded data removed]",
      "text/plain": [
       "<Figure size 1152x288 with 1 Axes>"
      ]
     },
     "metadata": {
      "needs_background": "light"
     },
     "output_type": "display_data"
    },
    {
     "data": {
      "image/png": "[encoded data removed]",
      "text/plain": [
       "<Figure size 1152x288 with 2 Axes>"
      ]
     },
     "metadata": {
      "needs_background": "light"
     },
     "output_type": "display_data"
    },
    {
     "data": {
      "image/png": "[encoded data removed]",
      "text/plain": [
       "<Figure size 1152x288 with 2 Axes>"
      ]
     },
     "metadata": {
      "needs_background": "light"
     },
     "output_type": "display_data"
    },
    {
     "data": {
      "image/png": "[encoded data removed]",
      "text/plain": [
       "<Figure size 1152x288 with 2 Axes>"
      ]
     },
     "metadata": {
      "needs_background": "light"
     },
     "output_type": "display_data"
    },
    {
     "data": {
      "image/png": "[encoded data removed]",
      "text/plain": [
       "<Figure size 1152x288 with 2 Axes>"
      ]
     },
     "metadata": {
      "needs_background": "light"
     },
     "output_type": "display_data"
    }
   ],
   "source": [
    "plt.rcParams.update({'font.size': 11})\n",
    "\n",
    "plt.figure(figsize=(16,4))\n",
    "plt.subplot().patch.set_visible(False)\n",
    "sns.countplot(x = df['job'], hue='subscribed', data = df)\n",
    "plt.xlabel('Job')\n",
    "plt.ylabel('Count')\n",
    "\n",
    "plt.rcParams.update({'font.size': 16})\n",
    "\n",
    "# plt.show()\n",
    "\n",
    "for col in range(1, len(object_data) - 1, 2): \n",
    "    plt.figure(figsize=(16,4))\n",
    "    col_index = col\n",
    "    column_name = object_data[col_index]\n",
    "    col_index += 1\n",
    "    plt.subplot(1, 2, 1).patch.set_visible(False)\n",
    "    sns.countplot(x=df[column_name],hue='subscribed',data=df)\n",
    "    \n",
    "    column_name = object_data[col_index]\n",
    "    plt.subplot(1, 2, 2).patch.set_visible(False)\n",
    "    sns.countplot(x=df[column_name],hue='subscribed',data=df)\n",
    "    \n",
    "#     plt.show()"
   ]
  },
  {
   "cell_type": "markdown",
   "metadata": {},
   "source": [
    "**Let's see the above information in tabular form.**"
   ]
  },
  {
   "cell_type": "code",
   "execution_count": 27,
   "metadata": {
    "scrolled": false
   },
   "outputs": [
    {
     "name": "stdout",
     "output_type": "stream",
     "text": [
      "subscribed  job          \n",
      "0           admin.           4540\n",
      "            blue-collar      9024\n",
      "            entrepreneur     1364\n",
      "            housemaid        1131\n",
      "            management       8157\n",
      "            retired          1748\n",
      "            self-employed    1392\n",
      "            services         3785\n",
      "            student           669\n",
      "            technician       6757\n",
      "            unemployed       1101\n",
      "            unknown           254\n",
      "1           admin.            631\n",
      "            blue-collar       708\n",
      "            entrepreneur      123\n",
      "            housemaid         109\n",
      "            management       1301\n",
      "            retired           516\n",
      "            self-employed     187\n",
      "            services          369\n",
      "            student           269\n",
      "            technician        840\n",
      "            unemployed        202\n",
      "            unknown            34\n",
      "dtype: int64\n",
      "\n",
      "subscribed  marital \n",
      "0           divorced     4585\n",
      "            married     24459\n",
      "            single      10878\n",
      "1           divorced      622\n",
      "            married      2755\n",
      "            single       1912\n",
      "dtype: int64\n",
      "\n",
      "subscribed  education\n",
      "0           primary       6260\n",
      "            secondary    20752\n",
      "            tertiary     11305\n",
      "            unknown       1605\n",
      "1           primary        591\n",
      "            secondary     2450\n",
      "            tertiary      1996\n",
      "            unknown        252\n",
      "dtype: int64\n",
      "\n",
      "subscribed  default\n",
      "0           no         39159\n",
      "            yes          763\n",
      "1           no          5237\n",
      "            yes           52\n",
      "dtype: int64\n",
      "\n",
      "subscribed  housing\n",
      "0           no         16727\n",
      "            yes        23195\n",
      "1           no          3354\n",
      "            yes         1935\n",
      "dtype: int64\n",
      "\n",
      "subscribed  loan\n",
      "0           no      33162\n",
      "            yes      6760\n",
      "1           no       4805\n",
      "            yes       484\n",
      "dtype: int64\n",
      "\n",
      "subscribed  contact  \n",
      "0           cellular     24916\n",
      "            telephone     2516\n",
      "            unknown      12490\n",
      "1           cellular      4369\n",
      "            telephone      390\n",
      "            unknown        530\n",
      "dtype: int64\n",
      "\n",
      "subscribed  month\n",
      "0           apr       2355\n",
      "            aug       5559\n",
      "            dec        114\n",
      "            feb       2208\n",
      "            jan       1261\n",
      "            jul       6268\n",
      "            jun       4795\n",
      "            mar        229\n",
      "            may      12841\n",
      "            nov       3567\n",
      "            oct        415\n",
      "            sep        310\n",
      "1           apr        577\n",
      "            aug        688\n",
      "            dec        100\n",
      "            feb        441\n",
      "            jan        142\n",
      "            jul        627\n",
      "            jun        546\n",
      "            mar        248\n",
      "            may        925\n",
      "            nov        403\n",
      "            oct        323\n",
      "            sep        269\n",
      "dtype: int64\n",
      "\n",
      "subscribed  poutcome\n",
      "0           failure      4283\n",
      "            other        1533\n",
      "            success       533\n",
      "            unknown     33573\n",
      "1           failure       618\n",
      "            other         307\n",
      "            success       978\n",
      "            unknown      3386\n",
      "dtype: int64\n",
      "\n"
     ]
    }
   ],
   "source": [
    "for col in object_data:\n",
    "    print(df.groupby(['subscribed', col]).size())\n",
    "    print()"
   ]
  },
  {
   "cell_type": "markdown",
   "metadata": {},
   "source": [
    "**Obeservations**\n",
    "- The customerrs in job category 'retired' have shown higher interest in the term deposit as compared to the others.\n",
    "- Customers with a tertiary level of education were more like to subscribe for the term deposit.\n",
    "- The people who do not have a credit have shown interest in the term deposit.\n",
    "- The people who do not have a housing loan have shown relatively higher interest in the term deposit.\n",
    "- Customers who were contacted during the month of March, September, December, and October repectively have mostly subscribed to the term deposit."
   ]
  },
  {
   "cell_type": "markdown",
   "metadata": {},
   "source": [
    "## Feature Engineering\n",
    "\n",
    "Feature Engineering is classifying features such as numerial and categorical into groups in order to deeply section and analyze the data.Here, we will create features for our predictive model. For each section, we will add new variables to the dataframe and then keep track of which columns of the dataframe we want to use as part of the predictive model features. We will break down this section into numerical and categorical features."
   ]
  },
  {
   "cell_type": "markdown",
   "metadata": {},
   "source": [
    "### Labeled Encoding"
   ]
  },
  {
   "cell_type": "markdown",
   "metadata": {},
   "source": [
    "We are performing the Labeled  encoding in which we will assign specific Numerical values to some caltegorical columns. We need to perform the Labeled encoding as We will need to have our feaures in Numericalbefore we try to run any Model with them or even if we want to find their correlation with other features.  \n",
    "Here are the columns that We have chosen for Labeled  encoding:\n",
    "- **education:** Education levels are comparable, So we can assign them the values 0, 1, 2, 3.\n",
    "- **housing, loan and default:** Bivariate, We can use 0 and 1 to denote 'no' and 'yes' respectively."
   ]
  },
  {
   "cell_type": "code",
   "execution_count": 28,
   "metadata": {},
   "outputs": [],
   "source": [
    "# Replacing the values stored in 'education column' with their codes\n",
    "\n",
    "df['education'].replace('unknown',0, inplace=True)\n",
    "df['education'].replace('primary',1, inplace=True)\n",
    "df['education'].replace('secondary',2, inplace=True)\n",
    "df['education'].replace('tertiary',3, inplace=True)\n",
    "\n",
    "# The column 'housing' and 'loan' are bivariate so we can replace them with 0s and 1s\n",
    "\n",
    "for column in ['housing', 'loan', 'default']:\n",
    "    df[column].replace('no',0, inplace=True)\n",
    "    df[column].replace('yes',1, inplace=True)"
   ]
  },
  {
   "cell_type": "code",
   "execution_count": 29,
   "metadata": {},
   "outputs": [],
   "source": [
    "# Instead of categorizing the data in 4 categories, we can label successfull poutcomes, as 1 and remaining as 0\n",
    "\n",
    "df['poutcome'].replace(['failure', 'other', 'unknown'],0, inplace=True)\n",
    "df['poutcome'].replace('success',1, inplace=True)"
   ]
  },
  {
   "cell_type": "markdown",
   "metadata": {},
   "source": [
    "- In the education column we have their the new numerical values on the basis of education levels.\n",
    "- 'housing', 'loan' and 'default' are still bivariate only there data type is now int64."
   ]
  },
  {
   "cell_type": "markdown",
   "metadata": {},
   "source": [
    "### Correlation Analysis\n",
    "Correlation Analysis is statistical method that is used to discover if there is a relationship between two variables/datasets, and how strong that relationship may be.  "
   ]
  },
  {
   "cell_type": "code",
   "execution_count": 30,
   "metadata": {
    "scrolled": false
   },
   "outputs": [
    {
     "data": {
      "text/html": [
       "<div>\n",
       "<style scoped>\n",
       "    .dataframe tbody tr th:only-of-type {\n",
       "        vertical-align: middle;\n",
       "    }\n",
       "\n",
       "    .dataframe tbody tr th {\n",
       "        vertical-align: top;\n",
       "    }\n",
       "\n",
       "    .dataframe thead th {\n",
       "        text-align: right;\n",
       "    }\n",
       "</style>\n",
       "<table border=\"1\" class=\"dataframe\">\n",
       "  <thead>\n",
       "    <tr style=\"text-align: right;\">\n",
       "      <th></th>\n",
       "      <th>age</th>\n",
       "      <th>education</th>\n",
       "      <th>default</th>\n",
       "      <th>balance</th>\n",
       "      <th>housing</th>\n",
       "      <th>loan</th>\n",
       "      <th>day</th>\n",
       "      <th>duration</th>\n",
       "      <th>campaign</th>\n",
       "      <th>pdays</th>\n",
       "      <th>previous</th>\n",
       "      <th>poutcome</th>\n",
       "      <th>subscribed</th>\n",
       "    </tr>\n",
       "  </thead>\n",
       "  <tbody>\n",
       "    <tr>\n",
       "      <th>age</th>\n",
       "      <td>1.000000</td>\n",
       "      <td>-0.173615</td>\n",
       "      <td>-0.017879</td>\n",
       "      <td>0.097783</td>\n",
       "      <td>-0.185513</td>\n",
       "      <td>-0.015655</td>\n",
       "      <td>-0.009120</td>\n",
       "      <td>-0.004648</td>\n",
       "      <td>0.004760</td>\n",
       "      <td>-0.023758</td>\n",
       "      <td>0.001288</td>\n",
       "      <td>0.035526</td>\n",
       "      <td>0.025155</td>\n",
       "    </tr>\n",
       "    <tr>\n",
       "      <th>education</th>\n",
       "      <td>-0.173615</td>\n",
       "      <td>1.000000</td>\n",
       "      <td>-0.009035</td>\n",
       "      <td>0.050572</td>\n",
       "      <td>-0.038689</td>\n",
       "      <td>0.004307</td>\n",
       "      <td>0.021661</td>\n",
       "      <td>0.002554</td>\n",
       "      <td>0.000194</td>\n",
       "      <td>0.007092</td>\n",
       "      <td>0.025295</td>\n",
       "      <td>0.037227</td>\n",
       "      <td>0.051341</td>\n",
       "    </tr>\n",
       "    <tr>\n",
       "      <th>default</th>\n",
       "      <td>-0.017879</td>\n",
       "      <td>-0.009035</td>\n",
       "      <td>1.000000</td>\n",
       "      <td>-0.066745</td>\n",
       "      <td>-0.006025</td>\n",
       "      <td>0.077234</td>\n",
       "      <td>0.009424</td>\n",
       "      <td>-0.010021</td>\n",
       "      <td>0.016822</td>\n",
       "      <td>-0.029979</td>\n",
       "      <td>-0.018329</td>\n",
       "      <td>-0.023344</td>\n",
       "      <td>-0.022419</td>\n",
       "    </tr>\n",
       "    <tr>\n",
       "      <th>balance</th>\n",
       "      <td>0.097783</td>\n",
       "      <td>0.050572</td>\n",
       "      <td>-0.066745</td>\n",
       "      <td>1.000000</td>\n",
       "      <td>-0.068768</td>\n",
       "      <td>-0.084350</td>\n",
       "      <td>0.004503</td>\n",
       "      <td>0.021560</td>\n",
       "      <td>-0.014578</td>\n",
       "      <td>0.003435</td>\n",
       "      <td>0.016674</td>\n",
       "      <td>0.035240</td>\n",
       "      <td>0.052838</td>\n",
       "    </tr>\n",
       "    <tr>\n",
       "      <th>housing</th>\n",
       "      <td>-0.185513</td>\n",
       "      <td>-0.038689</td>\n",
       "      <td>-0.006025</td>\n",
       "      <td>-0.068768</td>\n",
       "      <td>1.000000</td>\n",
       "      <td>0.041323</td>\n",
       "      <td>-0.027982</td>\n",
       "      <td>0.005075</td>\n",
       "      <td>-0.023599</td>\n",
       "      <td>0.124178</td>\n",
       "      <td>0.037076</td>\n",
       "      <td>-0.091360</td>\n",
       "      <td>-0.139173</td>\n",
       "    </tr>\n",
       "    <tr>\n",
       "      <th>loan</th>\n",
       "      <td>-0.015655</td>\n",
       "      <td>0.004307</td>\n",
       "      <td>0.077234</td>\n",
       "      <td>-0.084350</td>\n",
       "      <td>0.041323</td>\n",
       "      <td>1.000000</td>\n",
       "      <td>0.011370</td>\n",
       "      <td>-0.012412</td>\n",
       "      <td>0.009980</td>\n",
       "      <td>-0.022754</td>\n",
       "      <td>-0.011043</td>\n",
       "      <td>-0.053713</td>\n",
       "      <td>-0.068185</td>\n",
       "    </tr>\n",
       "    <tr>\n",
       "      <th>day</th>\n",
       "      <td>-0.009120</td>\n",
       "      <td>0.021661</td>\n",
       "      <td>0.009424</td>\n",
       "      <td>0.004503</td>\n",
       "      <td>-0.027982</td>\n",
       "      <td>0.011370</td>\n",
       "      <td>1.000000</td>\n",
       "      <td>-0.030206</td>\n",
       "      <td>0.162490</td>\n",
       "      <td>-0.093044</td>\n",
       "      <td>-0.051710</td>\n",
       "      <td>-0.030321</td>\n",
       "      <td>-0.028348</td>\n",
       "    </tr>\n",
       "    <tr>\n",
       "      <th>duration</th>\n",
       "      <td>-0.004648</td>\n",
       "      <td>0.002554</td>\n",
       "      <td>-0.010021</td>\n",
       "      <td>0.021560</td>\n",
       "      <td>0.005075</td>\n",
       "      <td>-0.012412</td>\n",
       "      <td>-0.030206</td>\n",
       "      <td>1.000000</td>\n",
       "      <td>-0.084570</td>\n",
       "      <td>-0.001565</td>\n",
       "      <td>0.001203</td>\n",
       "      <td>0.042389</td>\n",
       "      <td>0.394521</td>\n",
       "    </tr>\n",
       "    <tr>\n",
       "      <th>campaign</th>\n",
       "      <td>0.004760</td>\n",
       "      <td>0.000194</td>\n",
       "      <td>0.016822</td>\n",
       "      <td>-0.014578</td>\n",
       "      <td>-0.023599</td>\n",
       "      <td>0.009980</td>\n",
       "      <td>0.162490</td>\n",
       "      <td>-0.084570</td>\n",
       "      <td>1.000000</td>\n",
       "      <td>-0.088628</td>\n",
       "      <td>-0.032855</td>\n",
       "      <td>-0.057486</td>\n",
       "      <td>-0.073172</td>\n",
       "    </tr>\n",
       "    <tr>\n",
       "      <th>pdays</th>\n",
       "      <td>-0.023758</td>\n",
       "      <td>0.007092</td>\n",
       "      <td>-0.029979</td>\n",
       "      <td>0.003435</td>\n",
       "      <td>0.124178</td>\n",
       "      <td>-0.022754</td>\n",
       "      <td>-0.093044</td>\n",
       "      <td>-0.001565</td>\n",
       "      <td>-0.088628</td>\n",
       "      <td>1.000000</td>\n",
       "      <td>0.454820</td>\n",
       "      <td>0.228539</td>\n",
       "      <td>0.103621</td>\n",
       "    </tr>\n",
       "    <tr>\n",
       "      <th>previous</th>\n",
       "      <td>0.001288</td>\n",
       "      <td>0.025295</td>\n",
       "      <td>-0.018329</td>\n",
       "      <td>0.016674</td>\n",
       "      <td>0.037076</td>\n",
       "      <td>-0.011043</td>\n",
       "      <td>-0.051710</td>\n",
       "      <td>0.001203</td>\n",
       "      <td>-0.032855</td>\n",
       "      <td>0.454820</td>\n",
       "      <td>1.000000</td>\n",
       "      <td>0.201424</td>\n",
       "      <td>0.093236</td>\n",
       "    </tr>\n",
       "    <tr>\n",
       "      <th>poutcome</th>\n",
       "      <td>0.035526</td>\n",
       "      <td>0.037227</td>\n",
       "      <td>-0.023344</td>\n",
       "      <td>0.035240</td>\n",
       "      <td>-0.091360</td>\n",
       "      <td>-0.053713</td>\n",
       "      <td>-0.030321</td>\n",
       "      <td>0.042389</td>\n",
       "      <td>-0.057486</td>\n",
       "      <td>0.228539</td>\n",
       "      <td>0.201424</td>\n",
       "      <td>1.000000</td>\n",
       "      <td>0.306788</td>\n",
       "    </tr>\n",
       "    <tr>\n",
       "      <th>subscribed</th>\n",
       "      <td>0.025155</td>\n",
       "      <td>0.051341</td>\n",
       "      <td>-0.022419</td>\n",
       "      <td>0.052838</td>\n",
       "      <td>-0.139173</td>\n",
       "      <td>-0.068185</td>\n",
       "      <td>-0.028348</td>\n",
       "      <td>0.394521</td>\n",
       "      <td>-0.073172</td>\n",
       "      <td>0.103621</td>\n",
       "      <td>0.093236</td>\n",
       "      <td>0.306788</td>\n",
       "      <td>1.000000</td>\n",
       "    </tr>\n",
       "  </tbody>\n",
       "</table>\n",
       "</div>"
      ],
      "text/plain": [
       "                 age  education   default   balance   housing      loan  \\\n",
       "age         1.000000  -0.173615 -0.017879  0.097783 -0.185513 -0.015655   \n",
       "education  -0.173615   1.000000 -0.009035  0.050572 -0.038689  0.004307   \n",
       "default    -0.017879  -0.009035  1.000000 -0.066745 -0.006025  0.077234   \n",
       "balance     0.097783   0.050572 -0.066745  1.000000 -0.068768 -0.084350   \n",
       "housing    -0.185513  -0.038689 -0.006025 -0.068768  1.000000  0.041323   \n",
       "loan       -0.015655   0.004307  0.077234 -0.084350  0.041323  1.000000   \n",
       "day        -0.009120   0.021661  0.009424  0.004503 -0.027982  0.011370   \n",
       "duration   -0.004648   0.002554 -0.010021  0.021560  0.005075 -0.012412   \n",
       "campaign    0.004760   0.000194  0.016822 -0.014578 -0.023599  0.009980   \n",
       "pdays      -0.023758   0.007092 -0.029979  0.003435  0.124178 -0.022754   \n",
       "previous    0.001288   0.025295 -0.018329  0.016674  0.037076 -0.011043   \n",
       "poutcome    0.035526   0.037227 -0.023344  0.035240 -0.091360 -0.053713   \n",
       "subscribed  0.025155   0.051341 -0.022419  0.052838 -0.139173 -0.068185   \n",
       "\n",
       "                 day  duration  campaign     pdays  previous  poutcome  \\\n",
       "age        -0.009120 -0.004648  0.004760 -0.023758  0.001288  0.035526   \n",
       "education   0.021661  0.002554  0.000194  0.007092  0.025295  0.037227   \n",
       "default     0.009424 -0.010021  0.016822 -0.029979 -0.018329 -0.023344   \n",
       "balance     0.004503  0.021560 -0.014578  0.003435  0.016674  0.035240   \n",
       "housing    -0.027982  0.005075 -0.023599  0.124178  0.037076 -0.091360   \n",
       "loan        0.011370 -0.012412  0.009980 -0.022754 -0.011043 -0.053713   \n",
       "day         1.000000 -0.030206  0.162490 -0.093044 -0.051710 -0.030321   \n",
       "duration   -0.030206  1.000000 -0.084570 -0.001565  0.001203  0.042389   \n",
       "campaign    0.162490 -0.084570  1.000000 -0.088628 -0.032855 -0.057486   \n",
       "pdays      -0.093044 -0.001565 -0.088628  1.000000  0.454820  0.228539   \n",
       "previous   -0.051710  0.001203 -0.032855  0.454820  1.000000  0.201424   \n",
       "poutcome   -0.030321  0.042389 -0.057486  0.228539  0.201424  1.000000   \n",
       "subscribed -0.028348  0.394521 -0.073172  0.103621  0.093236  0.306788   \n",
       "\n",
       "            subscribed  \n",
       "age           0.025155  \n",
       "education     0.051341  \n",
       "default      -0.022419  \n",
       "balance       0.052838  \n",
       "housing      -0.139173  \n",
       "loan         -0.068185  \n",
       "day          -0.028348  \n",
       "duration      0.394521  \n",
       "campaign     -0.073172  \n",
       "pdays         0.103621  \n",
       "previous      0.093236  \n",
       "poutcome      0.306788  \n",
       "subscribed    1.000000  "
      ]
     },
     "execution_count": 30,
     "metadata": {},
     "output_type": "execute_result"
    }
   ],
   "source": [
    "df.corr()"
   ]
  },
  {
   "cell_type": "code",
   "execution_count": 31,
   "metadata": {
    "scrolled": false
   },
   "outputs": [
    {
     "data": {
      "image/png": "[encoded data removed]",
      "text/plain": [
       "<Figure size 720x360 with 2 Axes>"
      ]
     },
     "metadata": {
      "needs_background": "light"
     },
     "output_type": "display_data"
    }
   ],
   "source": [
    "plt.subplots(figsize=(10,5)) \n",
    "sns.heatmap(df.corr(), cbar=True, cmap=\"RdBu_r\", linewidths=1)\n",
    "plt.title(\"Correlation Matrix\", fontsize=18)\n",
    "plt.show()"
   ]
  },
  {
   "cell_type": "code",
   "execution_count": 32,
   "metadata": {},
   "outputs": [
    {
     "data": {
      "text/plain": [
       "['job', 'marital', 'contact', 'month']"
      ]
     },
     "execution_count": 32,
     "metadata": {},
     "output_type": "execute_result"
    }
   ],
   "source": [
    "object_data = [data for data in df.dtypes[df.dtypes == 'object'].index]\n",
    "object_data"
   ]
  },
  {
   "cell_type": "code",
   "execution_count": 33,
   "metadata": {},
   "outputs": [
    {
     "data": {
      "text/plain": [
       "age            int64\n",
       "job           object\n",
       "marital       object\n",
       "education      int64\n",
       "default        int64\n",
       "balance        int64\n",
       "housing        int64\n",
       "loan           int64\n",
       "contact       object\n",
       "day            int64\n",
       "month         object\n",
       "duration       int64\n",
       "campaign       int64\n",
       "pdays          int64\n",
       "previous       int64\n",
       "poutcome       int64\n",
       "subscribed     int32\n",
       "dtype: object"
      ]
     },
     "execution_count": 33,
     "metadata": {},
     "output_type": "execute_result"
    }
   ],
   "source": [
    "df.dtypes"
   ]
  },
  {
   "cell_type": "code",
   "execution_count": 34,
   "metadata": {},
   "outputs": [
    {
     "data": {
      "text/plain": [
       "job        0\n",
       "marital    0\n",
       "contact    0\n",
       "month      0\n",
       "dtype: int64"
      ]
     },
     "execution_count": 34,
     "metadata": {},
     "output_type": "execute_result"
    }
   ],
   "source": [
    "# Check for missing values\n",
    "df[object_data].isnull().sum()"
   ]
  },
  {
   "cell_type": "code",
   "execution_count": 35,
   "metadata": {},
   "outputs": [],
   "source": [
    "encoded_df = df.copy()"
   ]
  },
  {
   "cell_type": "code",
   "execution_count": 36,
   "metadata": {},
   "outputs": [
    {
     "data": {
      "text/plain": [
       "age                   int64\n",
       "job                category\n",
       "marital            category\n",
       "education             int64\n",
       "default               int64\n",
       "balance               int64\n",
       "housing               int64\n",
       "loan                  int64\n",
       "contact            category\n",
       "day                   int64\n",
       "month              category\n",
       "duration              int64\n",
       "campaign              int64\n",
       "pdays                 int64\n",
       "previous              int64\n",
       "poutcome              int64\n",
       "subscribed            int32\n",
       "job_encoded            int8\n",
       "marital_encoded        int8\n",
       "contact_encoded        int8\n",
       "month_encoded          int8\n",
       "dtype: object"
      ]
     },
     "execution_count": 36,
     "metadata": {},
     "output_type": "execute_result"
    }
   ],
   "source": [
    "encoded_col_names = []\n",
    "for col in object_data:\n",
    "    encoded_df[col] = df[col].astype('category')\n",
    "    encoded_df[col+\"_encoded\"] = encoded_df[col].cat.codes\n",
    "    encoded_col_names.append(col+\"_encoded\")\n",
    "encoded_df.dtypes"
   ]
  },
  {
   "cell_type": "code",
   "execution_count": 37,
   "metadata": {},
   "outputs": [
    {
     "data": {
      "text/html": [
       "<div>\n",
       "<style scoped>\n",
       "    .dataframe tbody tr th:only-of-type {\n",
       "        vertical-align: middle;\n",
       "    }\n",
       "\n",
       "    .dataframe tbody tr th {\n",
       "        vertical-align: top;\n",
       "    }\n",
       "\n",
       "    .dataframe thead th {\n",
       "        text-align: right;\n",
       "    }\n",
       "</style>\n",
       "<table border=\"1\" class=\"dataframe\">\n",
       "  <thead>\n",
       "    <tr style=\"text-align: right;\">\n",
       "      <th></th>\n",
       "      <th>age</th>\n",
       "      <th>job</th>\n",
       "      <th>marital</th>\n",
       "      <th>education</th>\n",
       "      <th>default</th>\n",
       "      <th>balance</th>\n",
       "      <th>housing</th>\n",
       "      <th>loan</th>\n",
       "      <th>contact</th>\n",
       "      <th>day</th>\n",
       "      <th>...</th>\n",
       "      <th>duration</th>\n",
       "      <th>campaign</th>\n",
       "      <th>pdays</th>\n",
       "      <th>previous</th>\n",
       "      <th>poutcome</th>\n",
       "      <th>subscribed</th>\n",
       "      <th>job_encoded</th>\n",
       "      <th>marital_encoded</th>\n",
       "      <th>contact_encoded</th>\n",
       "      <th>month_encoded</th>\n",
       "    </tr>\n",
       "  </thead>\n",
       "  <tbody>\n",
       "    <tr>\n",
       "      <th>0</th>\n",
       "      <td>58</td>\n",
       "      <td>management</td>\n",
       "      <td>married</td>\n",
       "      <td>3</td>\n",
       "      <td>0</td>\n",
       "      <td>2143</td>\n",
       "      <td>1</td>\n",
       "      <td>0</td>\n",
       "      <td>unknown</td>\n",
       "      <td>5</td>\n",
       "      <td>...</td>\n",
       "      <td>261</td>\n",
       "      <td>1</td>\n",
       "      <td>-1</td>\n",
       "      <td>0</td>\n",
       "      <td>0</td>\n",
       "      <td>0</td>\n",
       "      <td>4</td>\n",
       "      <td>1</td>\n",
       "      <td>2</td>\n",
       "      <td>8</td>\n",
       "    </tr>\n",
       "    <tr>\n",
       "      <th>1</th>\n",
       "      <td>44</td>\n",
       "      <td>technician</td>\n",
       "      <td>single</td>\n",
       "      <td>2</td>\n",
       "      <td>0</td>\n",
       "      <td>29</td>\n",
       "      <td>1</td>\n",
       "      <td>0</td>\n",
       "      <td>unknown</td>\n",
       "      <td>5</td>\n",
       "      <td>...</td>\n",
       "      <td>151</td>\n",
       "      <td>1</td>\n",
       "      <td>-1</td>\n",
       "      <td>0</td>\n",
       "      <td>0</td>\n",
       "      <td>0</td>\n",
       "      <td>9</td>\n",
       "      <td>2</td>\n",
       "      <td>2</td>\n",
       "      <td>8</td>\n",
       "    </tr>\n",
       "    <tr>\n",
       "      <th>2</th>\n",
       "      <td>33</td>\n",
       "      <td>entrepreneur</td>\n",
       "      <td>married</td>\n",
       "      <td>2</td>\n",
       "      <td>0</td>\n",
       "      <td>2</td>\n",
       "      <td>1</td>\n",
       "      <td>1</td>\n",
       "      <td>unknown</td>\n",
       "      <td>5</td>\n",
       "      <td>...</td>\n",
       "      <td>76</td>\n",
       "      <td>1</td>\n",
       "      <td>-1</td>\n",
       "      <td>0</td>\n",
       "      <td>0</td>\n",
       "      <td>0</td>\n",
       "      <td>2</td>\n",
       "      <td>1</td>\n",
       "      <td>2</td>\n",
       "      <td>8</td>\n",
       "    </tr>\n",
       "    <tr>\n",
       "      <th>3</th>\n",
       "      <td>47</td>\n",
       "      <td>blue-collar</td>\n",
       "      <td>married</td>\n",
       "      <td>0</td>\n",
       "      <td>0</td>\n",
       "      <td>1506</td>\n",
       "      <td>1</td>\n",
       "      <td>0</td>\n",
       "      <td>unknown</td>\n",
       "      <td>5</td>\n",
       "      <td>...</td>\n",
       "      <td>92</td>\n",
       "      <td>1</td>\n",
       "      <td>-1</td>\n",
       "      <td>0</td>\n",
       "      <td>0</td>\n",
       "      <td>0</td>\n",
       "      <td>1</td>\n",
       "      <td>1</td>\n",
       "      <td>2</td>\n",
       "      <td>8</td>\n",
       "    </tr>\n",
       "    <tr>\n",
       "      <th>4</th>\n",
       "      <td>33</td>\n",
       "      <td>unknown</td>\n",
       "      <td>single</td>\n",
       "      <td>0</td>\n",
       "      <td>0</td>\n",
       "      <td>1</td>\n",
       "      <td>0</td>\n",
       "      <td>0</td>\n",
       "      <td>unknown</td>\n",
       "      <td>5</td>\n",
       "      <td>...</td>\n",
       "      <td>198</td>\n",
       "      <td>1</td>\n",
       "      <td>-1</td>\n",
       "      <td>0</td>\n",
       "      <td>0</td>\n",
       "      <td>0</td>\n",
       "      <td>11</td>\n",
       "      <td>2</td>\n",
       "      <td>2</td>\n",
       "      <td>8</td>\n",
       "    </tr>\n",
       "    <tr>\n",
       "      <th>...</th>\n",
       "      <td>...</td>\n",
       "      <td>...</td>\n",
       "      <td>...</td>\n",
       "      <td>...</td>\n",
       "      <td>...</td>\n",
       "      <td>...</td>\n",
       "      <td>...</td>\n",
       "      <td>...</td>\n",
       "      <td>...</td>\n",
       "      <td>...</td>\n",
       "      <td>...</td>\n",
       "      <td>...</td>\n",
       "      <td>...</td>\n",
       "      <td>...</td>\n",
       "      <td>...</td>\n",
       "      <td>...</td>\n",
       "      <td>...</td>\n",
       "      <td>...</td>\n",
       "      <td>...</td>\n",
       "      <td>...</td>\n",
       "      <td>...</td>\n",
       "    </tr>\n",
       "    <tr>\n",
       "      <th>45206</th>\n",
       "      <td>51</td>\n",
       "      <td>technician</td>\n",
       "      <td>married</td>\n",
       "      <td>3</td>\n",
       "      <td>0</td>\n",
       "      <td>825</td>\n",
       "      <td>0</td>\n",
       "      <td>0</td>\n",
       "      <td>cellular</td>\n",
       "      <td>17</td>\n",
       "      <td>...</td>\n",
       "      <td>977</td>\n",
       "      <td>3</td>\n",
       "      <td>-1</td>\n",
       "      <td>0</td>\n",
       "      <td>0</td>\n",
       "      <td>1</td>\n",
       "      <td>9</td>\n",
       "      <td>1</td>\n",
       "      <td>0</td>\n",
       "      <td>9</td>\n",
       "    </tr>\n",
       "    <tr>\n",
       "      <th>45207</th>\n",
       "      <td>71</td>\n",
       "      <td>retired</td>\n",
       "      <td>divorced</td>\n",
       "      <td>1</td>\n",
       "      <td>0</td>\n",
       "      <td>1729</td>\n",
       "      <td>0</td>\n",
       "      <td>0</td>\n",
       "      <td>cellular</td>\n",
       "      <td>17</td>\n",
       "      <td>...</td>\n",
       "      <td>456</td>\n",
       "      <td>2</td>\n",
       "      <td>-1</td>\n",
       "      <td>0</td>\n",
       "      <td>0</td>\n",
       "      <td>1</td>\n",
       "      <td>5</td>\n",
       "      <td>0</td>\n",
       "      <td>0</td>\n",
       "      <td>9</td>\n",
       "    </tr>\n",
       "    <tr>\n",
       "      <th>45208</th>\n",
       "      <td>72</td>\n",
       "      <td>retired</td>\n",
       "      <td>married</td>\n",
       "      <td>2</td>\n",
       "      <td>0</td>\n",
       "      <td>5715</td>\n",
       "      <td>0</td>\n",
       "      <td>0</td>\n",
       "      <td>cellular</td>\n",
       "      <td>17</td>\n",
       "      <td>...</td>\n",
       "      <td>1127</td>\n",
       "      <td>5</td>\n",
       "      <td>184</td>\n",
       "      <td>3</td>\n",
       "      <td>1</td>\n",
       "      <td>1</td>\n",
       "      <td>5</td>\n",
       "      <td>1</td>\n",
       "      <td>0</td>\n",
       "      <td>9</td>\n",
       "    </tr>\n",
       "    <tr>\n",
       "      <th>45209</th>\n",
       "      <td>57</td>\n",
       "      <td>blue-collar</td>\n",
       "      <td>married</td>\n",
       "      <td>2</td>\n",
       "      <td>0</td>\n",
       "      <td>668</td>\n",
       "      <td>0</td>\n",
       "      <td>0</td>\n",
       "      <td>telephone</td>\n",
       "      <td>17</td>\n",
       "      <td>...</td>\n",
       "      <td>508</td>\n",
       "      <td>4</td>\n",
       "      <td>-1</td>\n",
       "      <td>0</td>\n",
       "      <td>0</td>\n",
       "      <td>0</td>\n",
       "      <td>1</td>\n",
       "      <td>1</td>\n",
       "      <td>1</td>\n",
       "      <td>9</td>\n",
       "    </tr>\n",
       "    <tr>\n",
       "      <th>45210</th>\n",
       "      <td>37</td>\n",
       "      <td>entrepreneur</td>\n",
       "      <td>married</td>\n",
       "      <td>2</td>\n",
       "      <td>0</td>\n",
       "      <td>2971</td>\n",
       "      <td>0</td>\n",
       "      <td>0</td>\n",
       "      <td>cellular</td>\n",
       "      <td>17</td>\n",
       "      <td>...</td>\n",
       "      <td>361</td>\n",
       "      <td>2</td>\n",
       "      <td>188</td>\n",
       "      <td>11</td>\n",
       "      <td>0</td>\n",
       "      <td>0</td>\n",
       "      <td>2</td>\n",
       "      <td>1</td>\n",
       "      <td>0</td>\n",
       "      <td>9</td>\n",
       "    </tr>\n",
       "  </tbody>\n",
       "</table>\n",
       "<p>45211 rows × 21 columns</p>\n",
       "</div>"
      ],
      "text/plain": [
       "       age           job   marital  education  default  balance  housing  \\\n",
       "0       58    management   married          3        0     2143        1   \n",
       "1       44    technician    single          2        0       29        1   \n",
       "2       33  entrepreneur   married          2        0        2        1   \n",
       "3       47   blue-collar   married          0        0     1506        1   \n",
       "4       33       unknown    single          0        0        1        0   \n",
       "...    ...           ...       ...        ...      ...      ...      ...   \n",
       "45206   51    technician   married          3        0      825        0   \n",
       "45207   71       retired  divorced          1        0     1729        0   \n",
       "45208   72       retired   married          2        0     5715        0   \n",
       "45209   57   blue-collar   married          2        0      668        0   \n",
       "45210   37  entrepreneur   married          2        0     2971        0   \n",
       "\n",
       "       loan    contact  day  ... duration  campaign  pdays  previous  \\\n",
       "0         0    unknown    5  ...      261         1     -1         0   \n",
       "1         0    unknown    5  ...      151         1     -1         0   \n",
       "2         1    unknown    5  ...       76         1     -1         0   \n",
       "3         0    unknown    5  ...       92         1     -1         0   \n",
       "4         0    unknown    5  ...      198         1     -1         0   \n",
       "...     ...        ...  ...  ...      ...       ...    ...       ...   \n",
       "45206     0   cellular   17  ...      977         3     -1         0   \n",
       "45207     0   cellular   17  ...      456         2     -1         0   \n",
       "45208     0   cellular   17  ...     1127         5    184         3   \n",
       "45209     0  telephone   17  ...      508         4     -1         0   \n",
       "45210     0   cellular   17  ...      361         2    188        11   \n",
       "\n",
       "       poutcome  subscribed  job_encoded  marital_encoded  contact_encoded  \\\n",
       "0             0           0            4                1                2   \n",
       "1             0           0            9                2                2   \n",
       "2             0           0            2                1                2   \n",
       "3             0           0            1                1                2   \n",
       "4             0           0           11                2                2   \n",
       "...         ...         ...          ...              ...              ...   \n",
       "45206         0           1            9                1                0   \n",
       "45207         0           1            5                0                0   \n",
       "45208         1           1            5                1                0   \n",
       "45209         0           0            1                1                1   \n",
       "45210         0           0            2                1                0   \n",
       "\n",
       "       month_encoded  \n",
       "0                  8  \n",
       "1                  8  \n",
       "2                  8  \n",
       "3                  8  \n",
       "4                  8  \n",
       "...              ...  \n",
       "45206              9  \n",
       "45207              9  \n",
       "45208              9  \n",
       "45209              9  \n",
       "45210              9  \n",
       "\n",
       "[45211 rows x 21 columns]"
      ]
     },
     "execution_count": 37,
     "metadata": {},
     "output_type": "execute_result"
    }
   ],
   "source": [
    "encoded_df"
   ]
  },
  {
   "cell_type": "code",
   "execution_count": 38,
   "metadata": {},
   "outputs": [
    {
     "data": {
      "text/plain": [
       "Index(['age', 'education', 'default', 'balance', 'housing', 'loan', 'day',\n",
       "       'duration', 'campaign', 'pdays', 'previous', 'poutcome', 'subscribed',\n",
       "       'job_encoded', 'marital_encoded', 'contact_encoded', 'month_encoded'],\n",
       "      dtype='object')"
      ]
     },
     "execution_count": 38,
     "metadata": {},
     "output_type": "execute_result"
    }
   ],
   "source": [
    "encoded_df.drop(object_data, axis=1, inplace=True)\n",
    "encoded_df.columns"
   ]
  },
  {
   "cell_type": "code",
   "execution_count": 39,
   "metadata": {
    "scrolled": false
   },
   "outputs": [
    {
     "data": {
      "text/plain": [
       "Text(0.5, 1.0, 'Correlation Matrix')"
      ]
     },
     "execution_count": 39,
     "metadata": {},
     "output_type": "execute_result"
    },
    {
     "data": {
      "image/png": "[encoded data removed]",
      "text/plain": [
       "<Figure size 1800x720 with 2 Axes>"
      ]
     },
     "metadata": {
      "needs_background": "light"
     },
     "output_type": "display_data"
    }
   ],
   "source": [
    "encoded_col_names.append('subscribed')\n",
    "\n",
    "plt.subplots(figsize=(25,10)) \n",
    "sns.heatmap(encoded_df[encoded_col_names].corr(), cbar=True, cmap=\"RdBu_r\",linewidths=1, annot=True)\n",
    "plt.title(\"Correlation Matrix\", fontsize=18)\n",
    "# plt.show()"
   ]
  },
  {
   "cell_type": "markdown",
   "metadata": {},
   "source": [
    "**Checking Non-Significant and redundant columns**\n",
    "- Before deciding to drop any of the available columns We will  run a final check on the suspected columns."
   ]
  },
  {
   "cell_type": "code",
   "execution_count": 40,
   "metadata": {
    "scrolled": true
   },
   "outputs": [
    {
     "name": "stdout",
     "output_type": "stream",
     "text": [
      "default\n",
      "0    44396\n",
      "1      815\n",
      "dtype: int64\n",
      "subscribed  default\n",
      "0           0          39159\n",
      "            1            763\n",
      "1           0           5237\n",
      "            1             52\n",
      "dtype: int64\n"
     ]
    }
   ],
   "source": [
    "#defaut feature does not play imp role\n",
    "print(df.groupby(['default']).size())\n",
    "print(df.groupby(['subscribed','default']).size())"
   ]
  },
  {
   "cell_type": "markdown",
   "metadata": {},
   "source": [
    "- We are replacing the value '-1' in the column 'pdays' with 0 as -1 is the most frequent value in the column and it can affect the calculations later."
   ]
  },
  {
   "cell_type": "code",
   "execution_count": 41,
   "metadata": {},
   "outputs": [],
   "source": [
    "df['pdays'].replace(-1,0, inplace=True)"
   ]
  },
  {
   "cell_type": "code",
   "execution_count": 42,
   "metadata": {},
   "outputs": [
    {
     "data": {
      "text/html": [
       "<div>\n",
       "<style scoped>\n",
       "    .dataframe tbody tr th:only-of-type {\n",
       "        vertical-align: middle;\n",
       "    }\n",
       "\n",
       "    .dataframe tbody tr th {\n",
       "        vertical-align: top;\n",
       "    }\n",
       "\n",
       "    .dataframe thead th {\n",
       "        text-align: right;\n",
       "    }\n",
       "</style>\n",
       "<table border=\"1\" class=\"dataframe\">\n",
       "  <thead>\n",
       "    <tr style=\"text-align: right;\">\n",
       "      <th></th>\n",
       "      <th>age</th>\n",
       "      <th>education</th>\n",
       "      <th>default</th>\n",
       "      <th>balance</th>\n",
       "      <th>housing</th>\n",
       "      <th>loan</th>\n",
       "      <th>day</th>\n",
       "      <th>duration</th>\n",
       "      <th>campaign</th>\n",
       "      <th>pdays</th>\n",
       "      <th>previous</th>\n",
       "      <th>poutcome</th>\n",
       "      <th>subscribed</th>\n",
       "    </tr>\n",
       "  </thead>\n",
       "  <tbody>\n",
       "    <tr>\n",
       "      <th>age</th>\n",
       "      <td>1.000000</td>\n",
       "      <td>-0.173615</td>\n",
       "      <td>-0.017879</td>\n",
       "      <td>0.097783</td>\n",
       "      <td>-0.185513</td>\n",
       "      <td>-0.015655</td>\n",
       "      <td>-0.009120</td>\n",
       "      <td>-0.004648</td>\n",
       "      <td>0.004760</td>\n",
       "      <td>-0.023841</td>\n",
       "      <td>0.001288</td>\n",
       "      <td>0.035526</td>\n",
       "      <td>0.025155</td>\n",
       "    </tr>\n",
       "    <tr>\n",
       "      <th>education</th>\n",
       "      <td>-0.173615</td>\n",
       "      <td>1.000000</td>\n",
       "      <td>-0.009035</td>\n",
       "      <td>0.050572</td>\n",
       "      <td>-0.038689</td>\n",
       "      <td>0.004307</td>\n",
       "      <td>0.021661</td>\n",
       "      <td>0.002554</td>\n",
       "      <td>0.000194</td>\n",
       "      <td>0.006975</td>\n",
       "      <td>0.025295</td>\n",
       "      <td>0.037227</td>\n",
       "      <td>0.051341</td>\n",
       "    </tr>\n",
       "    <tr>\n",
       "      <th>default</th>\n",
       "      <td>-0.017879</td>\n",
       "      <td>-0.009035</td>\n",
       "      <td>1.000000</td>\n",
       "      <td>-0.066745</td>\n",
       "      <td>-0.006025</td>\n",
       "      <td>0.077234</td>\n",
       "      <td>0.009424</td>\n",
       "      <td>-0.010021</td>\n",
       "      <td>0.016822</td>\n",
       "      <td>-0.029927</td>\n",
       "      <td>-0.018329</td>\n",
       "      <td>-0.023344</td>\n",
       "      <td>-0.022419</td>\n",
       "    </tr>\n",
       "    <tr>\n",
       "      <th>balance</th>\n",
       "      <td>0.097783</td>\n",
       "      <td>0.050572</td>\n",
       "      <td>-0.066745</td>\n",
       "      <td>1.000000</td>\n",
       "      <td>-0.068768</td>\n",
       "      <td>-0.084350</td>\n",
       "      <td>0.004503</td>\n",
       "      <td>0.021560</td>\n",
       "      <td>-0.014578</td>\n",
       "      <td>0.003330</td>\n",
       "      <td>0.016674</td>\n",
       "      <td>0.035240</td>\n",
       "      <td>0.052838</td>\n",
       "    </tr>\n",
       "    <tr>\n",
       "      <th>housing</th>\n",
       "      <td>-0.185513</td>\n",
       "      <td>-0.038689</td>\n",
       "      <td>-0.006025</td>\n",
       "      <td>-0.068768</td>\n",
       "      <td>1.000000</td>\n",
       "      <td>0.041323</td>\n",
       "      <td>-0.027982</td>\n",
       "      <td>0.005075</td>\n",
       "      <td>-0.023599</td>\n",
       "      <td>0.124350</td>\n",
       "      <td>0.037076</td>\n",
       "      <td>-0.091360</td>\n",
       "      <td>-0.139173</td>\n",
       "    </tr>\n",
       "    <tr>\n",
       "      <th>loan</th>\n",
       "      <td>-0.015655</td>\n",
       "      <td>0.004307</td>\n",
       "      <td>0.077234</td>\n",
       "      <td>-0.084350</td>\n",
       "      <td>0.041323</td>\n",
       "      <td>1.000000</td>\n",
       "      <td>0.011370</td>\n",
       "      <td>-0.012412</td>\n",
       "      <td>0.009980</td>\n",
       "      <td>-0.022709</td>\n",
       "      <td>-0.011043</td>\n",
       "      <td>-0.053713</td>\n",
       "      <td>-0.068185</td>\n",
       "    </tr>\n",
       "    <tr>\n",
       "      <th>day</th>\n",
       "      <td>-0.009120</td>\n",
       "      <td>0.021661</td>\n",
       "      <td>0.009424</td>\n",
       "      <td>0.004503</td>\n",
       "      <td>-0.027982</td>\n",
       "      <td>0.011370</td>\n",
       "      <td>1.000000</td>\n",
       "      <td>-0.030206</td>\n",
       "      <td>0.162490</td>\n",
       "      <td>-0.093024</td>\n",
       "      <td>-0.051710</td>\n",
       "      <td>-0.030321</td>\n",
       "      <td>-0.028348</td>\n",
       "    </tr>\n",
       "    <tr>\n",
       "      <th>duration</th>\n",
       "      <td>-0.004648</td>\n",
       "      <td>0.002554</td>\n",
       "      <td>-0.010021</td>\n",
       "      <td>0.021560</td>\n",
       "      <td>0.005075</td>\n",
       "      <td>-0.012412</td>\n",
       "      <td>-0.030206</td>\n",
       "      <td>1.000000</td>\n",
       "      <td>-0.084570</td>\n",
       "      <td>-0.001584</td>\n",
       "      <td>0.001203</td>\n",
       "      <td>0.042389</td>\n",
       "      <td>0.394521</td>\n",
       "    </tr>\n",
       "    <tr>\n",
       "      <th>campaign</th>\n",
       "      <td>0.004760</td>\n",
       "      <td>0.000194</td>\n",
       "      <td>0.016822</td>\n",
       "      <td>-0.014578</td>\n",
       "      <td>-0.023599</td>\n",
       "      <td>0.009980</td>\n",
       "      <td>0.162490</td>\n",
       "      <td>-0.084570</td>\n",
       "      <td>1.000000</td>\n",
       "      <td>-0.088508</td>\n",
       "      <td>-0.032855</td>\n",
       "      <td>-0.057486</td>\n",
       "      <td>-0.073172</td>\n",
       "    </tr>\n",
       "    <tr>\n",
       "      <th>pdays</th>\n",
       "      <td>-0.023841</td>\n",
       "      <td>0.006975</td>\n",
       "      <td>-0.029927</td>\n",
       "      <td>0.003330</td>\n",
       "      <td>0.124350</td>\n",
       "      <td>-0.022709</td>\n",
       "      <td>-0.093024</td>\n",
       "      <td>-0.001584</td>\n",
       "      <td>-0.088508</td>\n",
       "      <td>1.000000</td>\n",
       "      <td>0.454288</td>\n",
       "      <td>0.227786</td>\n",
       "      <td>0.103323</td>\n",
       "    </tr>\n",
       "    <tr>\n",
       "      <th>previous</th>\n",
       "      <td>0.001288</td>\n",
       "      <td>0.025295</td>\n",
       "      <td>-0.018329</td>\n",
       "      <td>0.016674</td>\n",
       "      <td>0.037076</td>\n",
       "      <td>-0.011043</td>\n",
       "      <td>-0.051710</td>\n",
       "      <td>0.001203</td>\n",
       "      <td>-0.032855</td>\n",
       "      <td>0.454288</td>\n",
       "      <td>1.000000</td>\n",
       "      <td>0.201424</td>\n",
       "      <td>0.093236</td>\n",
       "    </tr>\n",
       "    <tr>\n",
       "      <th>poutcome</th>\n",
       "      <td>0.035526</td>\n",
       "      <td>0.037227</td>\n",
       "      <td>-0.023344</td>\n",
       "      <td>0.035240</td>\n",
       "      <td>-0.091360</td>\n",
       "      <td>-0.053713</td>\n",
       "      <td>-0.030321</td>\n",
       "      <td>0.042389</td>\n",
       "      <td>-0.057486</td>\n",
       "      <td>0.227786</td>\n",
       "      <td>0.201424</td>\n",
       "      <td>1.000000</td>\n",
       "      <td>0.306788</td>\n",
       "    </tr>\n",
       "    <tr>\n",
       "      <th>subscribed</th>\n",
       "      <td>0.025155</td>\n",
       "      <td>0.051341</td>\n",
       "      <td>-0.022419</td>\n",
       "      <td>0.052838</td>\n",
       "      <td>-0.139173</td>\n",
       "      <td>-0.068185</td>\n",
       "      <td>-0.028348</td>\n",
       "      <td>0.394521</td>\n",
       "      <td>-0.073172</td>\n",
       "      <td>0.103323</td>\n",
       "      <td>0.093236</td>\n",
       "      <td>0.306788</td>\n",
       "      <td>1.000000</td>\n",
       "    </tr>\n",
       "  </tbody>\n",
       "</table>\n",
       "</div>"
      ],
      "text/plain": [
       "                 age  education   default   balance   housing      loan  \\\n",
       "age         1.000000  -0.173615 -0.017879  0.097783 -0.185513 -0.015655   \n",
       "education  -0.173615   1.000000 -0.009035  0.050572 -0.038689  0.004307   \n",
       "default    -0.017879  -0.009035  1.000000 -0.066745 -0.006025  0.077234   \n",
       "balance     0.097783   0.050572 -0.066745  1.000000 -0.068768 -0.084350   \n",
       "housing    -0.185513  -0.038689 -0.006025 -0.068768  1.000000  0.041323   \n",
       "loan       -0.015655   0.004307  0.077234 -0.084350  0.041323  1.000000   \n",
       "day        -0.009120   0.021661  0.009424  0.004503 -0.027982  0.011370   \n",
       "duration   -0.004648   0.002554 -0.010021  0.021560  0.005075 -0.012412   \n",
       "campaign    0.004760   0.000194  0.016822 -0.014578 -0.023599  0.009980   \n",
       "pdays      -0.023841   0.006975 -0.029927  0.003330  0.124350 -0.022709   \n",
       "previous    0.001288   0.025295 -0.018329  0.016674  0.037076 -0.011043   \n",
       "poutcome    0.035526   0.037227 -0.023344  0.035240 -0.091360 -0.053713   \n",
       "subscribed  0.025155   0.051341 -0.022419  0.052838 -0.139173 -0.068185   \n",
       "\n",
       "                 day  duration  campaign     pdays  previous  poutcome  \\\n",
       "age        -0.009120 -0.004648  0.004760 -0.023841  0.001288  0.035526   \n",
       "education   0.021661  0.002554  0.000194  0.006975  0.025295  0.037227   \n",
       "default     0.009424 -0.010021  0.016822 -0.029927 -0.018329 -0.023344   \n",
       "balance     0.004503  0.021560 -0.014578  0.003330  0.016674  0.035240   \n",
       "housing    -0.027982  0.005075 -0.023599  0.124350  0.037076 -0.091360   \n",
       "loan        0.011370 -0.012412  0.009980 -0.022709 -0.011043 -0.053713   \n",
       "day         1.000000 -0.030206  0.162490 -0.093024 -0.051710 -0.030321   \n",
       "duration   -0.030206  1.000000 -0.084570 -0.001584  0.001203  0.042389   \n",
       "campaign    0.162490 -0.084570  1.000000 -0.088508 -0.032855 -0.057486   \n",
       "pdays      -0.093024 -0.001584 -0.088508  1.000000  0.454288  0.227786   \n",
       "previous   -0.051710  0.001203 -0.032855  0.454288  1.000000  0.201424   \n",
       "poutcome   -0.030321  0.042389 -0.057486  0.227786  0.201424  1.000000   \n",
       "subscribed -0.028348  0.394521 -0.073172  0.103323  0.093236  0.306788   \n",
       "\n",
       "            subscribed  \n",
       "age           0.025155  \n",
       "education     0.051341  \n",
       "default      -0.022419  \n",
       "balance       0.052838  \n",
       "housing      -0.139173  \n",
       "loan         -0.068185  \n",
       "day          -0.028348  \n",
       "duration      0.394521  \n",
       "campaign     -0.073172  \n",
       "pdays         0.103323  \n",
       "previous      0.093236  \n",
       "poutcome      0.306788  \n",
       "subscribed    1.000000  "
      ]
     },
     "execution_count": 42,
     "metadata": {},
     "output_type": "execute_result"
    }
   ],
   "source": [
    "df.corr()"
   ]
  },
  {
   "cell_type": "code",
   "execution_count": 43,
   "metadata": {},
   "outputs": [
    {
     "name": "stdout",
     "output_type": "stream",
     "text": [
      "3 most frequent values in the column \"previous\":\n",
      "previous\n",
      "0    36954\n",
      "1     2772\n",
      "2     2106\n",
      "dtype: int64\n",
      "\n",
      "Data in 'previous' column compared to 'subscribed':\n",
      "subscribed  previous\n",
      "0           0           33570\n",
      "            1            2189\n",
      "            2            1650\n",
      "            3             848\n",
      "            4             543\n",
      "                        ...  \n",
      "1           26              1\n",
      "            29              1\n",
      "            30              1\n",
      "            55              1\n",
      "            58              1\n",
      "Length: 66, dtype: int64\n",
      "\n",
      "3 most frequent values in the column \"previous\":\n",
      "pdays\n",
      "0    36954\n",
      "1       15\n",
      "2       37\n",
      "dtype: int64\n",
      "subscribed  pdays\n",
      "0           0        33570\n",
      "            1            9\n",
      "            2           35\n",
      "            3            1\n",
      "            4            1\n",
      "                     ...  \n",
      "1           804          1\n",
      "            805          1\n",
      "            828          1\n",
      "            842          1\n",
      "            854          1\n",
      "Length: 914, dtype: int64\n",
      "\n",
      "Rows where 'pdays' is -1 and 'subscribe' is 1: 3384\n",
      "Rows where 'previous' is 0 and 'subscribe' is 1: 3384\n"
     ]
    }
   ],
   "source": [
    "print('3 most frequent values in the column \"previous\":')\n",
    "print(df.groupby(['previous']).size()[:3])\n",
    "print()\n",
    "print(\"Data in 'previous' column compared to 'subscribed':\")\n",
    "print(df.groupby(['subscribed','previous']).size())\n",
    "print()\n",
    "print('3 most frequent values in the column \"previous\":')\n",
    "print(df.groupby(['pdays']).size()[:3])\n",
    "print(df.groupby(['subscribed','pdays']).size())\n",
    "\n",
    "\n",
    "print(f\"\\nRows where 'pdays' is -1 and 'subscribe' is 1: {df[(df['pdays'] == 0) & (df['subscribed'] == 1)]['subscribed'].count()}\")\n",
    "print(f\"Rows where 'previous' is 0 and 'subscribe' is 1: {df[(df['previous'] == 0) & (df['subscribed'] == 1)]['subscribed'].count()}\")"
   ]
  },
  {
   "cell_type": "code",
   "execution_count": 44,
   "metadata": {},
   "outputs": [
    {
     "data": {
      "text/plain": [
       "(45211, 17)"
      ]
     },
     "execution_count": 44,
     "metadata": {},
     "output_type": "execute_result"
    }
   ],
   "source": [
    "df.shape"
   ]
  },
  {
   "cell_type": "markdown",
   "metadata": {},
   "source": [
    "### Dropping non-related columns\n",
    "- **default:** It has 44369 'no' values. It denotes that 44369 out of 45211 customers do not have a credit in default.\n",
    "- **contact:** This column can't contribute anymore in our prediction as the standard meddium of communication is 'cellular' now.\n",
    "- **month and day:** We can drop these two columns as they aren't showing any significant correlation with our target variable.\n",
    "- **previous:** Most frequent value in the columns 'previous' and 'pdays' is 0. Both these values have a frequency of 36954. Also the most frequent values are pointing towards the same  fact. We can drop 'previous' as the 'pdays' column has shown a higher correlation with target variable."
   ]
  },
  {
   "cell_type": "code",
   "execution_count": 45,
   "metadata": {},
   "outputs": [],
   "source": [
    "df.drop(['default','contact', 'month', 'day', 'previous'], axis=1, inplace= True)"
   ]
  },
  {
   "cell_type": "code",
   "execution_count": 46,
   "metadata": {},
   "outputs": [
    {
     "data": {
      "text/plain": [
       "(45211, 12)"
      ]
     },
     "execution_count": 46,
     "metadata": {},
     "output_type": "execute_result"
    }
   ],
   "source": [
    "df.shape"
   ]
  },
  {
   "cell_type": "code",
   "execution_count": 47,
   "metadata": {},
   "outputs": [
    {
     "name": "stdout",
     "output_type": "stream",
     "text": [
      "Job Unknown: 288\n",
      "Education Unknown: 1857\n",
      "Job and Education Unknown: 127\n",
      "Job or Education Unknown:2018\n"
     ]
    }
   ],
   "source": [
    "print(f\"Job Unknown: {df[df['job']=='unknown']['job'].count()}\")\n",
    "print(f\"Education Unknown: {df[df['education']== 0]['education'].count()}\")\n",
    "print(f\"Job and Education Unknown: {df[(df['job']=='unknown') & (df['education']== 0)]['education'].count()}\")\n",
    "print(f\"Job or Education Unknown:{df[(df['job']=='unknown') | (df['education']== 0)]['education'].count()}\")"
   ]
  },
  {
   "cell_type": "markdown",
   "metadata": {},
   "source": [
    "### Dropping rows with unknown values\n",
    "- We are dropping the rows with 'unknown' as entry from the education and job column. Column 'education' has 1857, and 'job' has 288 unknown values.\n",
    "- A total of 127 rows have 'unknown' entry in both the education and job column.\n",
    "- Dropping these entries will removes a total of 2018 values from our dataframe."
   ]
  },
  {
   "cell_type": "code",
   "execution_count": 48,
   "metadata": {},
   "outputs": [],
   "source": [
    "df.drop(df[df['job']=='unknown'].index, inplace=True)\n",
    "# in the education column we have asssigned the value 0 to 'unknown'\n",
    "df.drop(df[df['education']==0].index, inplace=True)"
   ]
  },
  {
   "cell_type": "code",
   "execution_count": 49,
   "metadata": {},
   "outputs": [
    {
     "data": {
      "text/plain": [
       "(43193, 12)"
      ]
     },
     "execution_count": 49,
     "metadata": {},
     "output_type": "execute_result"
    }
   ],
   "source": [
    "df.shape"
   ]
  },
  {
   "cell_type": "code",
   "execution_count": 50,
   "metadata": {},
   "outputs": [
    {
     "data": {
      "text/plain": [
       "3"
      ]
     },
     "execution_count": 50,
     "metadata": {},
     "output_type": "execute_result"
    }
   ],
   "source": [
    "# Checking calls with duration 0\n",
    "df[(df['duration']==0)]['duration'].count()"
   ]
  },
  {
   "cell_type": "code",
   "execution_count": 51,
   "metadata": {},
   "outputs": [
    {
     "data": {
      "text/plain": [
       "0"
      ]
     },
     "execution_count": 51,
     "metadata": {},
     "output_type": "execute_result"
    }
   ],
   "source": [
    "# Checking if any customer with cal duration 0 has subscribed for the term deposit\n",
    "df[(df['duration']==0) & (df['subscribed']) == 1]['duration'].count()"
   ]
  },
  {
   "cell_type": "markdown",
   "metadata": {},
   "source": [
    "- As expected, none of the customers with call duration 0 subscribed for the term deposit.  \n",
    "Hence we can drop these entries."
   ]
  },
  {
   "cell_type": "code",
   "execution_count": 52,
   "metadata": {},
   "outputs": [
    {
     "data": {
      "text/plain": [
       "(43190, 12)"
      ]
     },
     "execution_count": 52,
     "metadata": {},
     "output_type": "execute_result"
    }
   ],
   "source": [
    "df.drop(df[df['duration']==0].index, inplace=True)\n",
    "df.shape"
   ]
  },
  {
   "cell_type": "code",
   "execution_count": 53,
   "metadata": {},
   "outputs": [
    {
     "data": {
      "text/plain": [
       "['job', 'marital']"
      ]
     },
     "execution_count": 53,
     "metadata": {},
     "output_type": "execute_result"
    }
   ],
   "source": [
    "# Updating Object data list\n",
    "object_data = [data for data in df.dtypes[df.dtypes == 'object'].index]\n",
    "object_data"
   ]
  },
  {
   "cell_type": "markdown",
   "metadata": {},
   "source": [
    "### Outliers\n",
    "An outlier is a data point that differs significantly from other observations. An outlier may be due to variability in the measurement or it may indicate experimental error; the latter are sometimes excluded from the data set. An outlier can cause serious problems in statistical analyses.\n",
    "### Removing outliers"
   ]
  },
  {
   "cell_type": "code",
   "execution_count": 54,
   "metadata": {},
   "outputs": [],
   "source": [
    "def remove_outliers(data, column , minimum, maximum):\n",
    "    col_values = data[column].values\n",
    "    data[column] = np.where(np.logical_or(col_values<minimum, col_values>maximum), col_values.mean(), col_values)\n",
    "    return data"
   ]
  },
  {
   "cell_type": "code",
   "execution_count": 55,
   "metadata": {},
   "outputs": [],
   "source": [
    "min_val = df[\"duration\"].min()\n",
    "max_val = 1500\n",
    "df = remove_outliers(data=df, column='duration' , minimum=min_val, maximum=max_val)\n",
    "\n",
    "min_val = df[\"age\"].min()\n",
    "max_val = 80\n",
    "df = remove_outliers(data=df, column='age' , minimum=min_val, maximum=max_val)\n",
    "\n",
    "min_val = df[\"campaign\"].min()\n",
    "max_val = 6\n",
    "\n",
    "df = remove_outliers(data=df, column='campaign' , minimum=min_val, maximum=max_val)"
   ]
  },
  {
   "cell_type": "markdown",
   "metadata": {},
   "source": [
    "### One-Hot Encoding\n",
    "One-Hot Encoding is a popular technique for treating categorical variables. It simply creates additional features based on the number of unique values in the categorical feature. Every unique value in the category will be added as a feature. One-Hot Encoding is the process of creating dummy variables."
   ]
  },
  {
   "cell_type": "code",
   "execution_count": 56,
   "metadata": {
    "scrolled": true
   },
   "outputs": [
    {
     "data": {
      "text/html": [
       "<div>\n",
       "<style scoped>\n",
       "    .dataframe tbody tr th:only-of-type {\n",
       "        vertical-align: middle;\n",
       "    }\n",
       "\n",
       "    .dataframe tbody tr th {\n",
       "        vertical-align: top;\n",
       "    }\n",
       "\n",
       "    .dataframe thead th {\n",
       "        text-align: right;\n",
       "    }\n",
       "</style>\n",
       "<table border=\"1\" class=\"dataframe\">\n",
       "  <thead>\n",
       "    <tr style=\"text-align: right;\">\n",
       "      <th></th>\n",
       "      <th>job_admin.</th>\n",
       "      <th>job_blue-collar</th>\n",
       "      <th>job_entrepreneur</th>\n",
       "      <th>job_housemaid</th>\n",
       "      <th>job_management</th>\n",
       "      <th>job_retired</th>\n",
       "      <th>job_self-employed</th>\n",
       "      <th>job_services</th>\n",
       "      <th>job_student</th>\n",
       "      <th>job_technician</th>\n",
       "      <th>job_unemployed</th>\n",
       "      <th>marital_divorced</th>\n",
       "      <th>marital_married</th>\n",
       "      <th>marital_single</th>\n",
       "    </tr>\n",
       "  </thead>\n",
       "  <tbody>\n",
       "    <tr>\n",
       "      <th>0</th>\n",
       "      <td>0</td>\n",
       "      <td>0</td>\n",
       "      <td>0</td>\n",
       "      <td>0</td>\n",
       "      <td>1</td>\n",
       "      <td>0</td>\n",
       "      <td>0</td>\n",
       "      <td>0</td>\n",
       "      <td>0</td>\n",
       "      <td>0</td>\n",
       "      <td>0</td>\n",
       "      <td>0</td>\n",
       "      <td>1</td>\n",
       "      <td>0</td>\n",
       "    </tr>\n",
       "    <tr>\n",
       "      <th>1</th>\n",
       "      <td>0</td>\n",
       "      <td>0</td>\n",
       "      <td>0</td>\n",
       "      <td>0</td>\n",
       "      <td>0</td>\n",
       "      <td>0</td>\n",
       "      <td>0</td>\n",
       "      <td>0</td>\n",
       "      <td>0</td>\n",
       "      <td>1</td>\n",
       "      <td>0</td>\n",
       "      <td>0</td>\n",
       "      <td>0</td>\n",
       "      <td>1</td>\n",
       "    </tr>\n",
       "    <tr>\n",
       "      <th>2</th>\n",
       "      <td>0</td>\n",
       "      <td>0</td>\n",
       "      <td>1</td>\n",
       "      <td>0</td>\n",
       "      <td>0</td>\n",
       "      <td>0</td>\n",
       "      <td>0</td>\n",
       "      <td>0</td>\n",
       "      <td>0</td>\n",
       "      <td>0</td>\n",
       "      <td>0</td>\n",
       "      <td>0</td>\n",
       "      <td>1</td>\n",
       "      <td>0</td>\n",
       "    </tr>\n",
       "    <tr>\n",
       "      <th>5</th>\n",
       "      <td>0</td>\n",
       "      <td>0</td>\n",
       "      <td>0</td>\n",
       "      <td>0</td>\n",
       "      <td>1</td>\n",
       "      <td>0</td>\n",
       "      <td>0</td>\n",
       "      <td>0</td>\n",
       "      <td>0</td>\n",
       "      <td>0</td>\n",
       "      <td>0</td>\n",
       "      <td>0</td>\n",
       "      <td>1</td>\n",
       "      <td>0</td>\n",
       "    </tr>\n",
       "    <tr>\n",
       "      <th>6</th>\n",
       "      <td>0</td>\n",
       "      <td>0</td>\n",
       "      <td>0</td>\n",
       "      <td>0</td>\n",
       "      <td>1</td>\n",
       "      <td>0</td>\n",
       "      <td>0</td>\n",
       "      <td>0</td>\n",
       "      <td>0</td>\n",
       "      <td>0</td>\n",
       "      <td>0</td>\n",
       "      <td>0</td>\n",
       "      <td>0</td>\n",
       "      <td>1</td>\n",
       "    </tr>\n",
       "  </tbody>\n",
       "</table>\n",
       "</div>"
      ],
      "text/plain": [
       "   job_admin.  job_blue-collar  job_entrepreneur  job_housemaid  \\\n",
       "0           0                0                 0              0   \n",
       "1           0                0                 0              0   \n",
       "2           0                0                 1              0   \n",
       "5           0                0                 0              0   \n",
       "6           0                0                 0              0   \n",
       "\n",
       "   job_management  job_retired  job_self-employed  job_services  job_student  \\\n",
       "0               1            0                  0             0            0   \n",
       "1               0            0                  0             0            0   \n",
       "2               0            0                  0             0            0   \n",
       "5               1            0                  0             0            0   \n",
       "6               1            0                  0             0            0   \n",
       "\n",
       "   job_technician  job_unemployed  marital_divorced  marital_married  \\\n",
       "0               0               0                 0                1   \n",
       "1               1               0                 0                0   \n",
       "2               0               0                 0                1   \n",
       "5               0               0                 0                1   \n",
       "6               0               0                 0                0   \n",
       "\n",
       "   marital_single  \n",
       "0               0  \n",
       "1               1  \n",
       "2               0  \n",
       "5               0  \n",
       "6               1  "
      ]
     },
     "execution_count": 56,
     "metadata": {},
     "output_type": "execute_result"
    }
   ],
   "source": [
    "#with one hot encoding\n",
    "df_ohe = df.copy()\n",
    "obj_data_ohe = pd.get_dummies(df_ohe[object_data],drop_first = False)\n",
    "obj_data_ohe.head()"
   ]
  },
  {
   "cell_type": "code",
   "execution_count": 57,
   "metadata": {},
   "outputs": [
    {
     "data": {
      "text/plain": [
       "Index(['job_admin.', 'job_blue-collar', 'job_entrepreneur', 'job_housemaid',\n",
       "       'job_management', 'job_retired', 'job_self-employed', 'job_services',\n",
       "       'job_student', 'job_technician', 'job_unemployed', 'marital_divorced',\n",
       "       'marital_married', 'marital_single'],\n",
       "      dtype='object')"
      ]
     },
     "execution_count": 57,
     "metadata": {},
     "output_type": "execute_result"
    }
   ],
   "source": [
    "obj_data_ohe.keys()"
   ]
  },
  {
   "cell_type": "code",
   "execution_count": 58,
   "metadata": {},
   "outputs": [
    {
     "data": {
      "text/plain": [
       "(43190, 14)"
      ]
     },
     "execution_count": 58,
     "metadata": {},
     "output_type": "execute_result"
    }
   ],
   "source": [
    "obj_data_ohe.shape"
   ]
  },
  {
   "cell_type": "code",
   "execution_count": 59,
   "metadata": {},
   "outputs": [],
   "source": [
    "df_ohe = pd.concat([df_ohe, obj_data_ohe], axis=1)\n",
    "df_ohe.drop('subscribed', axis=1, inplace=True)\n",
    "df_ohe['subscribed'] = df['subscribed']"
   ]
  },
  {
   "cell_type": "code",
   "execution_count": 60,
   "metadata": {},
   "outputs": [
    {
     "data": {
      "text/plain": [
       "Index(['age', 'job', 'marital', 'education', 'balance', 'housing', 'loan',\n",
       "       'duration', 'campaign', 'pdays', 'poutcome', 'job_admin.',\n",
       "       'job_blue-collar', 'job_entrepreneur', 'job_housemaid',\n",
       "       'job_management', 'job_retired', 'job_self-employed', 'job_services',\n",
       "       'job_student', 'job_technician', 'job_unemployed', 'marital_divorced',\n",
       "       'marital_married', 'marital_single', 'subscribed'],\n",
       "      dtype='object')"
      ]
     },
     "execution_count": 60,
     "metadata": {},
     "output_type": "execute_result"
    }
   ],
   "source": [
    "df_ohe.keys()"
   ]
  },
  {
   "cell_type": "code",
   "execution_count": 61,
   "metadata": {},
   "outputs": [],
   "source": [
    "# Dropping object data from dataframe df_ohe, as we are going to use the encoded columns\n",
    "df_ohe.drop(object_data, axis=1, inplace=True)"
   ]
  },
  {
   "cell_type": "code",
   "execution_count": 62,
   "metadata": {},
   "outputs": [
    {
     "data": {
      "text/plain": [
       "Index(['age', 'education', 'balance', 'housing', 'loan', 'duration',\n",
       "       'campaign', 'pdays', 'poutcome', 'job_admin.', 'job_blue-collar',\n",
       "       'job_entrepreneur', 'job_housemaid', 'job_management', 'job_retired',\n",
       "       'job_self-employed', 'job_services', 'job_student', 'job_technician',\n",
       "       'job_unemployed', 'marital_divorced', 'marital_married',\n",
       "       'marital_single', 'subscribed'],\n",
       "      dtype='object')"
      ]
     },
     "execution_count": 62,
     "metadata": {},
     "output_type": "execute_result"
    }
   ],
   "source": [
    "df_ohe.keys()"
   ]
  },
  {
   "cell_type": "code",
   "execution_count": 63,
   "metadata": {},
   "outputs": [
    {
     "data": {
      "text/plain": [
       "(43190, 24)"
      ]
     },
     "execution_count": 63,
     "metadata": {},
     "output_type": "execute_result"
    }
   ],
   "source": [
    "df_ohe.shape"
   ]
  },
  {
   "cell_type": "markdown",
   "metadata": {},
   "source": [
    "### Issue of Imbalance data\n",
    "- We can see the distribution of our target feature is highly towards 0, i.e. the customers who are not going to subscribe.\n",
    "- About 90% of the target varible is in 0\n",
    "- Using such a sample to create for prediction may create a Model which is Biased to give a negative  predictions."
   ]
  },
  {
   "cell_type": "markdown",
   "metadata": {},
   "source": [
    "#### Solution\n",
    "After splitting the data into traing and testing datasets we can either perform **Oversampling** or **Undersampling** on our data.\n",
    "- Oversampling\n",
    " - We can try replicating the entries with a positive output in such a way that it reduces or equalizes the difference between the number of postive and negative ooutcomes.\n",
    "- Undersampling\n",
    " - We can try reducing those entries which are from higher frequent class\n",
    " \n",
    "**Note:** It is important to perform oversampling only after train_test_split as it will otherwise cause Data Leakage which will lead to predictions with tremendous falls accuracy"
   ]
  },
  {
   "cell_type": "markdown",
   "metadata": {},
   "source": [
    "### Summary of Feature engneering"
   ]
  },
  {
   "cell_type": "code",
   "execution_count": 64,
   "metadata": {},
   "outputs": [
    {
     "name": "stdout",
     "output_type": "stream",
     "text": [
      "Total number of features: 24\n",
      "Numerical Features: 10\n",
      "Encoded Categorical Features: 14\n"
     ]
    }
   ],
   "source": [
    "print('Total number of features:', len(df_ohe.keys()))\n",
    "print('Numerical Features:',len(df_ohe.keys()) - len(obj_data_ohe.keys()))\n",
    "print('Encoded Categorical Features:', len(obj_data_ohe.keys()))"
   ]
  },
  {
   "cell_type": "code",
   "execution_count": 65,
   "metadata": {},
   "outputs": [
    {
     "data": {
      "text/plain": [
       "subscribed           0\n",
       "marital_single       0\n",
       "education            0\n",
       "balance              0\n",
       "housing              0\n",
       "loan                 0\n",
       "duration             0\n",
       "campaign             0\n",
       "pdays                0\n",
       "poutcome             0\n",
       "job_admin.           0\n",
       "job_blue-collar      0\n",
       "job_entrepreneur     0\n",
       "job_housemaid        0\n",
       "job_management       0\n",
       "job_retired          0\n",
       "job_self-employed    0\n",
       "job_services         0\n",
       "job_student          0\n",
       "job_technician       0\n",
       "job_unemployed       0\n",
       "marital_divorced     0\n",
       "marital_married      0\n",
       "age                  0\n",
       "dtype: int64"
      ]
     },
     "execution_count": 65,
     "metadata": {},
     "output_type": "execute_result"
    }
   ],
   "source": [
    "# Checking for any null values\n",
    "df_ohe.isnull().sum().sort_values(ascending = False)"
   ]
  },
  {
   "cell_type": "code",
   "execution_count": 66,
   "metadata": {},
   "outputs": [
    {
     "name": "stdout",
     "output_type": "stream",
     "text": [
      "Columns of our interest:\n",
      "\t\t\tage\n",
      "\t\t\teducation\n",
      "\t\t\tbalance\n",
      "\t\t\thousing\n",
      "\t\t\tloan\n",
      "\t\t\tduration\n",
      "\t\t\tcampaign\n",
      "\t\t\tpdays\n",
      "\t\t\tpoutcome\n",
      "\t\t\tjob_admin.\n",
      "\t\t\tjob_blue-collar\n",
      "\t\t\tjob_entrepreneur\n",
      "\t\t\tjob_housemaid\n",
      "\t\t\tjob_management\n",
      "\t\t\tjob_retired\n",
      "\t\t\tjob_self-employed\n",
      "\t\t\tjob_services\n",
      "\t\t\tjob_student\n",
      "\t\t\tjob_technician\n",
      "\t\t\tjob_unemployed\n",
      "\t\t\tmarital_divorced\n",
      "\t\t\tmarital_married\n",
      "\t\t\tmarital_single\n",
      "\t\t\tsubscribed\n"
     ]
    }
   ],
   "source": [
    "# Copying data to a new dataframe, which includes the columns of interest.\n",
    "df_model = df_ohe.copy()\n",
    "\n",
    "print(\"Columns of our interest:\")\n",
    "\n",
    "for col in df_model:\n",
    "    print(f'\\t\\t\\t{col}')"
   ]
  },
  {
   "cell_type": "code",
   "execution_count": 67,
   "metadata": {
    "scrolled": false
   },
   "outputs": [
    {
     "data": {
      "text/plain": [
       "<AxesSubplot:xlabel='subscribed', ylabel='count'>"
      ]
     },
     "execution_count": 67,
     "metadata": {},
     "output_type": "execute_result"
    },
    {
     "data": {
      "image/png": "[encoded data removed]",
      "text/plain": [
       "<Figure size 432x288 with 1 Axes>"
      ]
     },
     "metadata": {
      "needs_background": "light"
     },
     "output_type": "display_data"
    }
   ],
   "source": [
    "sns.countplot(x=df_model['subscribed'], data=df_ohe)"
   ]
  },
  {
   "cell_type": "code",
   "execution_count": 68,
   "metadata": {},
   "outputs": [
    {
     "data": {
      "text/plain": [
       "(43190, 24)"
      ]
     },
     "execution_count": 68,
     "metadata": {},
     "output_type": "execute_result"
    }
   ],
   "source": [
    "df_model.shape"
   ]
  },
  {
   "cell_type": "code",
   "execution_count": 69,
   "metadata": {},
   "outputs": [],
   "source": [
    "df_model.to_csv('model.csv', index=False)"
   ]
  },
  {
   "cell_type": "markdown",
   "metadata": {},
   "source": [
    "## Testing Models"
   ]
  },
  {
   "cell_type": "code",
   "execution_count": 70,
   "metadata": {},
   "outputs": [],
   "source": [
    "import time\n",
    "\n",
    "from sklearn import preprocessing\n",
    "from sklearn.preprocessing import StandardScaler\n",
    "from sklearn.model_selection import train_test_split\n",
    "from sklearn.linear_model import LogisticRegression\n",
    "# from sklearn.discriminant_analysis import LinearDiscriminantAnalysis\n",
    "# from sklearn.datasets import make_classification\n",
    "from sklearn.tree import DecisionTreeClassifier\n",
    "from sklearn.naive_bayes import GaussianNB\n",
    "from sklearn.neighbors import KNeighborsClassifier\n",
    "from sklearn.svm import SVC\n",
    "from sklearn.ensemble import RandomForestClassifier\n",
    "from sklearn.ensemble import AdaBoostClassifier\n",
    "from sklearn.ensemble import GradientBoostingClassifier\n",
    "from sklearn.decomposition import PCA\n",
    "from sklearn.model_selection import cross_val_score\n",
    "from sklearn.metrics import classification_report\n",
    "from sklearn.metrics import confusion_matrix\n",
    "from sklearn.metrics import accuracy_score\n",
    "from sklearn.metrics import f1_score, precision_score, recall_score, roc_curve, roc_auc_score"
   ]
  },
  {
   "cell_type": "code",
   "execution_count": 71,
   "metadata": {},
   "outputs": [],
   "source": [
    "from time import time\n",
    "\n",
    "aucs = []\n",
    "names = []\n",
    "\n",
    "def get_report(name, classifier, x_train, y_train, y_test, y_pred, y_train_pred):\n",
    "    names.append(name)\n",
    "    s_time = time()\n",
    "    accuracies = cross_val_score(estimator = classifier, X = x_train, y = y_train, cv = 10)\n",
    "    \n",
    "    report = ''\n",
    "    \n",
    "    report += f'Report for {classifier}\\n'\n",
    "    \n",
    "    report += f'{classifier} Confusion  matrix:\\n'\n",
    "    report += f'{confusion_matrix(y_test, y_pred)}\\n\\n'\n",
    "    report += f'{classifier} accuracy mean: {accuracies.mean()}\\n'\n",
    "    report += f'{classifier} accuracy std dev: {accuracies.std()}\\n'\n",
    "    report += f'{classifier} preciosn score: {precision_score(y_test, y_pred)}\\n'\n",
    "    report += f'{classifier} recall score: {recall_score(y_test, y_pred)}\\n'\n",
    "    report += f'{classifier} f1 score: {f1_score(y_test, y_pred)}\\n'\n",
    "    auc = roc_auc_score(y_train, y_train_pred)\n",
    "    report += f'{classifier} AUC train: {auc}\\n'\n",
    "    \n",
    "    auc = roc_auc_score(y_test, y_pred)\n",
    "    report += f'{classifier} AUC test: {auc}\\n'\n",
    "    \n",
    "\n",
    "    aucs.append(auc)\n",
    "    \n",
    "    report += f'\\nClassification report: \\n{classification_report(y_test, y_pred)}'\n",
    "    report += f'\\nTime taken: {time() - s_time}\\n'\n",
    "    report += '*'*50\n",
    "    \n",
    "    return report"
   ]
  },
  {
   "cell_type": "markdown",
   "metadata": {},
   "source": [
    "### Train-Test Split\n",
    "We will split the datasets in **Train** and **Test**.\n",
    "- 75% of the available data will be used for training\n",
    "- Remaining 25% of the available data will be used for testing"
   ]
  },
  {
   "cell_type": "code",
   "execution_count": 72,
   "metadata": {},
   "outputs": [],
   "source": [
    "x = df_model.drop('subscribed',axis = 1)\n",
    "y = df_model['subscribed']\n",
    "x_train, x_test, y_train, y_test = train_test_split(x, y, test_size=0.25, random_state=42)"
   ]
  },
  {
   "cell_type": "code",
   "execution_count": 73,
   "metadata": {
    "scrolled": true
   },
   "outputs": [
    {
     "name": "stdout",
     "output_type": "stream",
     "text": [
      "The number of classes before fit 32392\n",
      "The number of classes after fit 57294\n"
     ]
    }
   ],
   "source": [
    "#Oversampling the train data\n",
    "from imblearn.over_sampling import RandomOverSampler\n",
    "\n",
    "os=RandomOverSampler(1)\n",
    "x_train_ns,y_train_ns=os.fit_resample(x_train,y_train)\n",
    "print(\"The number of classes before fit {}\".format(len(y_train)))\n",
    "print(\"The number of classes after fit {}\".format(len(y_train_ns)))\n",
    "x_train = x_train_ns\n",
    "y_train = y_train_ns"
   ]
  },
  {
   "cell_type": "code",
   "execution_count": 74,
   "metadata": {},
   "outputs": [],
   "source": [
    "# scaler = StandardScaler()\n",
    "# x_train = scaler.fit_transform(x_train)\n",
    "# x_test = scaler.transform(x_test)"
   ]
  },
  {
   "cell_type": "markdown",
   "metadata": {},
   "source": [
    "### Executing Models\n",
    "We will first run test the following models to see which models can provide us some promising results.\n",
    "- Logistic Regression\n",
    "- KNeighbors Classifier\n",
    "- Gaussian Naive Bayes\n",
    "- Decision-Tree Classifier\n",
    "- Random-Forest Classifier\n",
    "- Gradient Boosting Classifier\n",
    "- AdaBoost Classifier\n",
    "\n",
    "**Loigistic Regression**  \n",
    "Logsitic regression uses a line (Sigmoid function) in the form of an \"S\" to predict if the dependent variable is true or false based on the independent variables. The \"S-shaped\" curve (on the line graph) will show the probability of the dependent variable occuring based on where the points of the independent variables lands on the curve. In this case, the output (y) is predicted by the numerical and categorical variables defined as \"x\" such as age, education and so on. Logistic regresssion is best used for classifying samples.\n",
    "\n",
    "**K nearest neighbours (KNN)**  \n",
    "K Nearest Neighbors looks at the k closest datapoints and probability sample that has positive labels. It is easy to implement, and you don't need an assumption for the data structure. KNN is also good for multivariate analysis.\n",
    "\n",
    "**Naive Bayes**  \n",
    "Naive Bayes assumes that all variables in the dataset are independent of each other. Meaning that there are no dependent variables or output. This algorithm uses Bayes rule which calculated the probability of an event related to previous knowledge of the variables concerning the event. This won't really work in this case since we have an output of the bank customers who will get a bank deposit. This process is better for tasks such as image processing.\n",
    "\n",
    "**Decision Tree Classifier**  \n",
    "Decision trees works through the data to decide if one action occurs, what will then be the result of a \"yes\" and a \"no\". It works each data making the decision of which path to take based on the answer. Because of this decision making process, this algorithm has no assumptions about the structure of the data, but instead decides on the path to take through each decision the algorithm performs.\n",
    "\n",
    "**Random Forest**  \n",
    "Random forest works like a decision tree algorithm but it performs various decision tree analysis on the dataset as a whole. That is, it is the bigger version of the decision tree; a forest is bigger than a tree, you can think of it that way. Random forest takes random samples of trees and it works faster than the decision tree algorithm.\n",
    "\n",
    "**Gradient Boosting Classifier**  \n",
    "Boosting is a technique that builds a new decision tree algorithm that focuses on the errors on the dataset to fix them. This learns the whole model in order to fix it and improve the prediction of the model. Aside from being related to decision trees, it also relates to gradient descent algorithm as the name signifies. Gradient boosting analyzes different parts of the dataset and builds trees that focuses and corrects those errors.\n",
    "\n",
    "**AdaBoost Classifier**  \n",
    "Ada-boost or Adaptive Boosting is one of ensemble boosting classifier proposed by Yoav Freund and Robert Schapire in 1996. It combines multiple classifiers to increase the accuracy of classifiers. AdaBoost is an iterative ensemble method. AdaBoost classifier builds a strong classifier by combining multiple poorly performing classifiers so that you will get high accuracy strong classifier. The basic concept behind Adaboost is to set the weights of classifiers and training the data sample in each iteration such that it ensures the accurate predictions of unusual observations. Any machine learning algorithm can be used as base classifier if it accepts weights on the training set. "
   ]
  },
  {
   "cell_type": "code",
   "execution_count": 75,
   "metadata": {
    "scrolled": false
   },
   "outputs": [
    {
     "name": "stdout",
     "output_type": "stream",
     "text": [
      "Report for LogisticRegression()\n",
      "LogisticRegression() Confusion  matrix:\n",
      "[[7537 1985]\n",
      " [ 280  996]]\n",
      "\n",
      "LogisticRegression() accuracy mean: 0.7907635047431747\n",
      "LogisticRegression() accuracy std dev: 0.004887834681444295\n",
      "LogisticRegression() preciosn score: 0.33411606843341163\n",
      "LogisticRegression() recall score: 0.780564263322884\n",
      "LogisticRegression() f1 score: 0.4679351656095842\n",
      "LogisticRegression() AUC train: 0.7862428875623976\n",
      "LogisticRegression() AUC test: 0.7860498275236558\n",
      "\n",
      "Classification report: \n",
      "              precision    recall  f1-score   support\n",
      "\n",
      "           0       0.96      0.79      0.87      9522\n",
      "           1       0.33      0.78      0.47      1276\n",
      "\n",
      "    accuracy                           0.79     10798\n",
      "   macro avg       0.65      0.79      0.67     10798\n",
      "weighted avg       0.89      0.79      0.82     10798\n",
      "\n",
      "Time taken: 5.426929473876953\n",
      "**************************************************\n",
      "Report for KNeighborsClassifier()\n",
      "KNeighborsClassifier() Confusion  matrix:\n",
      "[[7681 1841]\n",
      " [ 519  757]]\n",
      "\n",
      "KNeighborsClassifier() accuracy mean: 0.8938633089602301\n",
      "KNeighborsClassifier() accuracy std dev: 0.0032872534733224493\n",
      "KNeighborsClassifier() preciosn score: 0.2913779830638953\n",
      "KNeighborsClassifier() recall score: 0.5932601880877743\n",
      "KNeighborsClassifier() f1 score: 0.39081053175012903\n",
      "KNeighborsClassifier() AUC train: 0.9282472859287185\n",
      "KNeighborsClassifier() AUC test: 0.6999592265790687\n",
      "\n",
      "Classification report: \n",
      "              precision    recall  f1-score   support\n",
      "\n",
      "           0       0.94      0.81      0.87      9522\n",
      "           1       0.29      0.59      0.39      1276\n",
      "\n",
      "    accuracy                           0.78     10798\n",
      "   macro avg       0.61      0.70      0.63     10798\n",
      "weighted avg       0.86      0.78      0.81     10798\n",
      "\n",
      "Time taken: 8.172451496124268\n",
      "**************************************************\n",
      "Report for GaussianNB()\n",
      "GaussianNB() Confusion  matrix:\n",
      "[[8208 1314]\n",
      " [ 506  770]]\n",
      "\n",
      "GaussianNB() accuracy mean: 0.7282088495596788\n",
      "GaussianNB() accuracy std dev: 0.00544427295598152\n",
      "GaussianNB() preciosn score: 0.3694817658349328\n",
      "GaussianNB() recall score: 0.603448275862069\n",
      "GaussianNB() f1 score: 0.45833333333333337\n",
      "GaussianNB() AUC train: 0.7281914336579747\n",
      "GaussianNB() AUC test: 0.7327260282902027\n",
      "\n",
      "Classification report: \n",
      "              precision    recall  f1-score   support\n",
      "\n",
      "           0       0.94      0.86      0.90      9522\n",
      "           1       0.37      0.60      0.46      1276\n",
      "\n",
      "    accuracy                           0.83     10798\n",
      "   macro avg       0.66      0.73      0.68     10798\n",
      "weighted avg       0.87      0.83      0.85     10798\n",
      "\n",
      "Time taken: 0.5345251560211182\n",
      "**************************************************\n",
      "Report for DecisionTreeClassifier()\n",
      "DecisionTreeClassifier() Confusion  matrix:\n",
      "[[8794  728]\n",
      " [ 791  485]]\n",
      "\n",
      "DecisionTreeClassifier() accuracy mean: 0.9578838839899996\n",
      "DecisionTreeClassifier() accuracy std dev: 0.0019889483223286845\n",
      "DecisionTreeClassifier() preciosn score: 0.3998351195383347\n",
      "DecisionTreeClassifier() recall score: 0.38009404388714735\n",
      "DecisionTreeClassifier() f1 score: 0.38971474487746083\n",
      "DecisionTreeClassifier() AUC train: 1.0\n",
      "DecisionTreeClassifier() AUC test: 0.6518197587635695\n",
      "\n",
      "Classification report: \n",
      "              precision    recall  f1-score   support\n",
      "\n",
      "           0       0.92      0.92      0.92      9522\n",
      "           1       0.40      0.38      0.39      1276\n",
      "\n",
      "    accuracy                           0.86     10798\n",
      "   macro avg       0.66      0.65      0.66     10798\n",
      "weighted avg       0.86      0.86      0.86     10798\n",
      "\n",
      "Time taken: 3.219066619873047\n",
      "**************************************************\n",
      "Report for RandomForestClassifier(n_estimators=10)\n",
      "RandomForestClassifier(n_estimators=10) Confusion  matrix:\n",
      "[[9056  466]\n",
      " [ 790  486]]\n",
      "\n",
      "RandomForestClassifier(n_estimators=10) accuracy mean: 0.9739763738391094\n",
      "RandomForestClassifier(n_estimators=10) accuracy std dev: 0.0013986948371697665\n",
      "RandomForestClassifier(n_estimators=10) preciosn score: 0.5105042016806722\n",
      "RandomForestClassifier(n_estimators=10) recall score: 0.38087774294670845\n",
      "RandomForestClassifier(n_estimators=10) f1 score: 0.4362657091561939\n",
      "RandomForestClassifier(n_estimators=10) AUC train: 0.9994065696233462\n",
      "RandomForestClassifier(n_estimators=10) AUC test: 0.6659692222399999\n",
      "\n",
      "Classification report: \n",
      "              precision    recall  f1-score   support\n",
      "\n",
      "           0       0.92      0.95      0.94      9522\n",
      "           1       0.51      0.38      0.44      1276\n",
      "\n",
      "    accuracy                           0.88     10798\n",
      "   macro avg       0.72      0.67      0.69     10798\n",
      "weighted avg       0.87      0.88      0.88     10798\n",
      "\n",
      "Time taken: 5.52022910118103\n",
      "**************************************************\n",
      "Report for GradientBoostingClassifier(learning_rate=1.0)\n",
      "GradientBoostingClassifier(learning_rate=1.0) Confusion  matrix:\n",
      "[[7831 1691]\n",
      " [ 272 1004]]\n",
      "\n",
      "GradientBoostingClassifier(learning_rate=1.0) accuracy mean: 0.8574195978514141\n",
      "GradientBoostingClassifier(learning_rate=1.0) accuracy std dev: 0.004536516171458178\n",
      "GradientBoostingClassifier(learning_rate=1.0) preciosn score: 0.3725417439703154\n",
      "GradientBoostingClassifier(learning_rate=1.0) recall score: 0.786833855799373\n",
      "GradientBoostingClassifier(learning_rate=1.0) f1 score: 0.5056660790732813\n",
      "GradientBoostingClassifier(learning_rate=1.0) AUC train: 0.8558313261423534\n",
      "GradientBoostingClassifier(learning_rate=1.0) AUC test: 0.8046225569692097\n",
      "\n",
      "Classification report: \n",
      "              precision    recall  f1-score   support\n",
      "\n",
      "           0       0.97      0.82      0.89      9522\n",
      "           1       0.37      0.79      0.51      1276\n",
      "\n",
      "    accuracy                           0.82     10798\n",
      "   macro avg       0.67      0.80      0.70     10798\n",
      "weighted avg       0.90      0.82      0.84     10798\n",
      "\n",
      "Time taken: 62.22064447402954\n",
      "**************************************************\n",
      "Report for AdaBoostClassifier()\n",
      "AdaBoostClassifier() Confusion  matrix:\n",
      "[[7774 1748]\n",
      " [ 267 1009]]\n",
      "\n",
      "AdaBoostClassifier() accuracy mean: 0.8133487656718504\n",
      "AdaBoostClassifier() accuracy std dev: 0.005195669773088956\n",
      "AdaBoostClassifier() preciosn score: 0.36597751178817556\n",
      "AdaBoostClassifier() recall score: 0.7907523510971787\n",
      "AdaBoostClassifier() f1 score: 0.5003719315645921\n",
      "AdaBoostClassifier() AUC train: 0.8157747757182252\n",
      "AdaBoostClassifier() AUC test: 0.8035887359350629\n",
      "\n",
      "Classification report: \n",
      "              precision    recall  f1-score   support\n",
      "\n",
      "           0       0.97      0.82      0.89      9522\n",
      "           1       0.37      0.79      0.50      1276\n",
      "\n",
      "    accuracy                           0.81     10798\n",
      "   macro avg       0.67      0.80      0.69     10798\n",
      "weighted avg       0.90      0.81      0.84     10798\n",
      "\n",
      "Time taken: 20.038415670394897\n",
      "**************************************************\n"
     ]
    }
   ],
   "source": [
    "models = {'LR': LogisticRegression(), 'KNN': KNeighborsClassifier(n_neighbors = 5),\n",
    "         'GaussNB': GaussianNB(), 'DTree': DecisionTreeClassifier(),\n",
    "         'RFC': RandomForestClassifier(n_estimators = 10), \n",
    "        'GBC': GradientBoostingClassifier(n_estimators=100, learning_rate=1.0, max_depth=3),\n",
    "         'ABC': AdaBoostClassifier()}\n",
    "\n",
    "log = ''\n",
    "\n",
    "for name, classifier in models.items():\n",
    "    classifier.fit(x_train, y_train)\n",
    "    y_pred = classifier.predict(x_test)\n",
    "    y_train_pred = classifier.predict(x_train)\n",
    "    report = get_report(name, classifier, x_train, y_train, y_test, y_pred, y_train_pred)\n",
    "    print(report)\n",
    "    log += report\n",
    "    log += '\\n'"
   ]
  },
  {
   "cell_type": "code",
   "execution_count": 76,
   "metadata": {},
   "outputs": [],
   "source": [
    "with open('logs\\log_report.log', 'w') as writer:\n",
    "        writer.write(log)"
   ]
  },
  {
   "cell_type": "code",
   "execution_count": 77,
   "metadata": {},
   "outputs": [],
   "source": [
    "df_result = pd.DataFrame({'Classifier': names, 'Results': aucs})"
   ]
  },
  {
   "cell_type": "code",
   "execution_count": 78,
   "metadata": {
    "scrolled": true
   },
   "outputs": [
    {
     "data": {
      "text/html": [
       "<div>\n",
       "<style scoped>\n",
       "    .dataframe tbody tr th:only-of-type {\n",
       "        vertical-align: middle;\n",
       "    }\n",
       "\n",
       "    .dataframe tbody tr th {\n",
       "        vertical-align: top;\n",
       "    }\n",
       "\n",
       "    .dataframe thead th {\n",
       "        text-align: right;\n",
       "    }\n",
       "</style>\n",
       "<table border=\"1\" class=\"dataframe\">\n",
       "  <thead>\n",
       "    <tr style=\"text-align: right;\">\n",
       "      <th></th>\n",
       "      <th>Classifier</th>\n",
       "      <th>Results</th>\n",
       "    </tr>\n",
       "  </thead>\n",
       "  <tbody>\n",
       "    <tr>\n",
       "      <th>0</th>\n",
       "      <td>LR</td>\n",
       "      <td>0.786050</td>\n",
       "    </tr>\n",
       "    <tr>\n",
       "      <th>1</th>\n",
       "      <td>KNN</td>\n",
       "      <td>0.699959</td>\n",
       "    </tr>\n",
       "    <tr>\n",
       "      <th>2</th>\n",
       "      <td>GaussNB</td>\n",
       "      <td>0.732726</td>\n",
       "    </tr>\n",
       "    <tr>\n",
       "      <th>3</th>\n",
       "      <td>DTree</td>\n",
       "      <td>0.651820</td>\n",
       "    </tr>\n",
       "    <tr>\n",
       "      <th>4</th>\n",
       "      <td>RFC</td>\n",
       "      <td>0.665969</td>\n",
       "    </tr>\n",
       "    <tr>\n",
       "      <th>5</th>\n",
       "      <td>GBC</td>\n",
       "      <td>0.804623</td>\n",
       "    </tr>\n",
       "    <tr>\n",
       "      <th>6</th>\n",
       "      <td>ABC</td>\n",
       "      <td>0.803589</td>\n",
       "    </tr>\n",
       "  </tbody>\n",
       "</table>\n",
       "</div>"
      ],
      "text/plain": [
       "  Classifier   Results\n",
       "0         LR  0.786050\n",
       "1        KNN  0.699959\n",
       "2    GaussNB  0.732726\n",
       "3      DTree  0.651820\n",
       "4        RFC  0.665969\n",
       "5        GBC  0.804623\n",
       "6        ABC  0.803589"
      ]
     },
     "execution_count": 78,
     "metadata": {},
     "output_type": "execute_result"
    }
   ],
   "source": [
    "df_result"
   ]
  },
  {
   "cell_type": "code",
   "execution_count": 79,
   "metadata": {
    "scrolled": false
   },
   "outputs": [
    {
     "data": {
      "image/png": "[encoded data removed]",
      "text/plain": [
       "<Figure size 720x360 with 1 Axes>"
      ]
     },
     "metadata": {
      "needs_background": "light"
     },
     "output_type": "display_data"
    }
   ],
   "source": [
    "plt.subplots(figsize=(10,5)) \n",
    "\n",
    "\n",
    "ax = sns.barplot(x=df_result[\"Classifier\"], y=df_result[\"Results\"], data=df_result)\n",
    "\n",
    "ax.set_xlabel('Classifier',fontsize = 20)\n",
    "ax.set_ylabel('AUC', fontsize = 20)\n",
    "plt.show()"
   ]
  },
  {
   "cell_type": "markdown",
   "metadata": {},
   "source": [
    "### Top 3 Models\n",
    "From the above results, We can choose our Top 3 models"
   ]
  },
  {
   "cell_type": "code",
   "execution_count": 80,
   "metadata": {},
   "outputs": [
    {
     "data": {
      "text/html": [
       "<div>\n",
       "<style scoped>\n",
       "    .dataframe tbody tr th:only-of-type {\n",
       "        vertical-align: middle;\n",
       "    }\n",
       "\n",
       "    .dataframe tbody tr th {\n",
       "        vertical-align: top;\n",
       "    }\n",
       "\n",
       "    .dataframe thead th {\n",
       "        text-align: right;\n",
       "    }\n",
       "</style>\n",
       "<table border=\"1\" class=\"dataframe\">\n",
       "  <thead>\n",
       "    <tr style=\"text-align: right;\">\n",
       "      <th></th>\n",
       "      <th>Classifier</th>\n",
       "      <th>Results</th>\n",
       "    </tr>\n",
       "  </thead>\n",
       "  <tbody>\n",
       "    <tr>\n",
       "      <th>5</th>\n",
       "      <td>GBC</td>\n",
       "      <td>0.804623</td>\n",
       "    </tr>\n",
       "    <tr>\n",
       "      <th>6</th>\n",
       "      <td>ABC</td>\n",
       "      <td>0.803589</td>\n",
       "    </tr>\n",
       "    <tr>\n",
       "      <th>0</th>\n",
       "      <td>LR</td>\n",
       "      <td>0.786050</td>\n",
       "    </tr>\n",
       "  </tbody>\n",
       "</table>\n",
       "</div>"
      ],
      "text/plain": [
       "  Classifier   Results\n",
       "5        GBC  0.804623\n",
       "6        ABC  0.803589\n",
       "0         LR  0.786050"
      ]
     },
     "execution_count": 80,
     "metadata": {},
     "output_type": "execute_result"
    }
   ],
   "source": [
    "df_result.sort_values('Results', ascending=False).head(3)"
   ]
  },
  {
   "cell_type": "code",
   "execution_count": 81,
   "metadata": {
    "scrolled": true
   },
   "outputs": [],
   "source": [
    "base_results_dict =  df_result.set_index('Classifier')['Results'].to_dict()"
   ]
  },
  {
   "cell_type": "markdown",
   "metadata": {},
   "source": [
    "## Hyperparameter Tuning  \n",
    "In machine learning, hyperparameter optimization or tuning is the problem of choosing a set of optimal hyperparameters for a learning algorithm. A hyperparameter is a parameter whose value is used to control the learning process. By contrast, the values of other parameters are learned.  \n",
    "- We can use the Hyperparameter Tuning to obtain the set of best possible Hyperparamters for our learning models.  \n",
    "- We will be using the technique called RandomizedSearchCV to obltain our best hyperparmeters.\n",
    "- We will try to optimize our to three models.\n",
    " - LogisticRegression()\n",
    " - GradientBoostingClassifier()\n",
    " - AdaBoostClassifier()\n",
    "- **Note:** The Optimization algorithm cannot be tested upto it's full potential due to hardware limitations."
   ]
  },
  {
   "cell_type": "code",
   "execution_count": 82,
   "metadata": {},
   "outputs": [],
   "source": [
    "opt_aucs = []\n",
    "opt_names = []\n",
    "\n",
    "def get_opt_report(name, classifier, x_train, y_train, y_test, y_pred):\n",
    "    opt_names.append(name)\n",
    "    s_time = time()\n",
    "    accuracies = cross_val_score(estimator = classifier, X = x_train, y = y_train, cv = 10)\n",
    "    \n",
    "    report = ''\n",
    "    \n",
    "    report += f'Report for {classifier}\\n'\n",
    "    \n",
    "    report += f'{name} Confusion  matrix:\\n'\n",
    "    report += f'{confusion_matrix(y_test, y_pred)}\\n\\n'\n",
    "    report += f'{name} accuracy mean: {accuracies.mean()}\\n'\n",
    "    report += f'{name} accuracy std dev: {accuracies.std()}\\n'\n",
    "    report += f'{name} preciosn score: {precision_score(y_test, y_pred)}\\n'\n",
    "    report += f'{name} recall score: {recall_score(y_test, y_pred)}\\n'\n",
    "    report += f'{name} f1 score: {f1_score(y_test, y_pred)}\\n'\n",
    "    \n",
    "    auc = roc_auc_score(y_test, y_pred)\n",
    "    report += f'{name} Optimized AUC test: {auc}\\n'\n",
    "    \n",
    "\n",
    "    opt_aucs.append(auc)\n",
    "    \n",
    "    report += f'\\nClassification report: \\n{classification_report(y_test, y_pred)}'\n",
    "    report += f'\\nTime taken: {time() - s_time}\\n'\n",
    "    report += '*'*50\n",
    "    \n",
    "    return report"
   ]
  },
  {
   "cell_type": "code",
   "execution_count": 83,
   "metadata": {},
   "outputs": [],
   "source": [
    "from sklearn.model_selection import RandomizedSearchCV\n",
    "\n",
    "\n",
    "def hypertuning_rscv(est, p_distr, nbr_iter):\n",
    "    rdmsearch = RandomizedSearchCV(est, param_distributions=p_distr,\n",
    "                                  n_jobs=-1, n_iter=nbr_iter, cv=9)\n",
    "    #CV = Cross-Validation ( here using Stratified KFold CV)\n",
    "    rdmsearch.fit(x_train, y_train)\n",
    "    ht_params = rdmsearch.best_params_\n",
    "    ht_score = rdmsearch.best_score_\n",
    "    return ht_params, ht_score"
   ]
  },
  {
   "cell_type": "code",
   "execution_count": 84,
   "metadata": {},
   "outputs": [
    {
     "name": "stdout",
     "output_type": "stream",
     "text": [
      "LR parameters: {'penalty': 'l2'}\n",
      "LR score: 0.7898383774915348\n",
      "Time taken: 13.340523958206177\n"
     ]
    }
   ],
   "source": [
    "s_time = time()\n",
    "est = LogisticRegression(n_jobs=-1)\n",
    "\n",
    "lr_p_dist={'penalty': ['l1', 'l2', 'elasticnet', 'none']}\n",
    "\n",
    "lr_parameters, lr_ht_score = hypertuning_rscv(est, lr_p_dist, 5)\n",
    "\n",
    "lr_time = time() - s_time\n",
    "\n",
    "# Print best parameters and score for LR\n",
    "\n",
    "print(f\"LR parameters: {lr_parameters}\")\n",
    "print(f\"LR score: {lr_ht_score}\")\n",
    "print(f\"Time taken: {lr_time}\")"
   ]
  },
  {
   "cell_type": "code",
   "execution_count": 85,
   "metadata": {},
   "outputs": [],
   "source": [
    "# n_estimators = range(50,200,50)\n",
    "# learning_rate = [0.001,0.01,0.1, 1.0]\n",
    "# # maximum depth of the tree\n",
    "# max_depth = range(1,5,1)\n",
    "\n",
    "# #GBC\n",
    "# s_time = time()\n",
    "# est = GradientBoostingClassifier()\n",
    "\n",
    "# gbc_p_dist={    \n",
    "#                 'n_estimators':n_estimators,\n",
    "#                'learning_rate': learning_rate,\n",
    "#                'max_depth': max_depth,\n",
    "#                'loss': ['deviance', 'exponential'],\n",
    "#                'criterion': ['friedman_mse', 'mse']\n",
    "#               }\n",
    "\n",
    "# gbc_parameters, gbc_ht_score = hypertuning_rscv(est, gbc_p_dist, 3)\n",
    "\n",
    "# gbc_time = time() - s_time\n",
    "\n",
    "# # Print best parameters and score for GBC\n",
    "\n",
    "# print(f\"GBC parameters: {gbc_parameters}\")\n",
    "# print(f\"GBC score: {gbc_ht_score}\")\n",
    "# print(f\"Time taken: {gbc_time}\")"
   ]
  },
  {
   "cell_type": "code",
   "execution_count": 86,
   "metadata": {},
   "outputs": [],
   "source": [
    "# #ABC\n",
    "# s_time = time()\n",
    "# est = AdaBoostClassifier()\n",
    "\n",
    "\n",
    "# abc_p_dist={    'n_estimators':n_estimators,\n",
    "#                'learning_rate': [0.001,0.01,0.1, 1.0],\n",
    "#                'algorithm': ['SAMME', 'SAMME.R']\n",
    "#               }\n",
    "\n",
    "# abc_parameters, abc_ht_score = hypertuning_rscv(est, abc_p_dist, 5)\n",
    "\n",
    "# abc_time = time() - s_time\n",
    "\n",
    "# # Print best parameters and score for ABC\n",
    "# print(f\"ABC parameters: {abc_parameters}\")\n",
    "# print(f\"ABC score: {abc_ht_score}\")\n",
    "# print(f\"Time taken: {abc_time}\")"
   ]
  },
  {
   "cell_type": "code",
   "execution_count": 87,
   "metadata": {},
   "outputs": [],
   "source": [
    "# hyperparameters = ''\n",
    "# hyperparameters += f'LR parameters: {lr_parameters}\\nLR score: {lr_ht_score}\\nTime taken: {lr_time}\\n\\n'\n",
    "# hyperparameters += f'GBC parameters: {gbc_parameters}\\nLGBC score: {gbc_ht_score}\\nTime taken: {abc_time}\\n\\n'\n",
    "# hyperparameters += f'ABC parameters: {abc_parameters}\\nABC score: {abc_ht_score}\\nTime taken: {abc_time}'"
   ]
  },
  {
   "cell_type": "code",
   "execution_count": 88,
   "metadata": {},
   "outputs": [
    {
     "name": "stdout",
     "output_type": "stream",
     "text": [
      "Report for LogisticRegression(n_jobs=-1)\n",
      "Optimized_LR Confusion  matrix:\n",
      "[[7537 1985]\n",
      " [ 280  996]]\n",
      "\n",
      "Optimized_LR accuracy mean: 0.7906238033921291\n",
      "Optimized_LR accuracy std dev: 0.005046166227326167\n",
      "Optimized_LR preciosn score: 0.33411606843341163\n",
      "Optimized_LR recall score: 0.780564263322884\n",
      "Optimized_LR f1 score: 0.4679351656095842\n",
      "Optimized_LR Optimized AUC test: 0.7860498275236558\n",
      "\n",
      "Classification report: \n",
      "              precision    recall  f1-score   support\n",
      "\n",
      "           0       0.96      0.79      0.87      9522\n",
      "           1       0.33      0.78      0.47      1276\n",
      "\n",
      "    accuracy                           0.79     10798\n",
      "   macro avg       0.65      0.79      0.67     10798\n",
      "weighted avg       0.89      0.79      0.82     10798\n",
      "\n",
      "Time taken: 32.45295715332031\n",
      "**************************************************\n",
      "Report for GradientBoostingClassifier(criterion='mse', learning_rate=1, loss='exponential',\n",
      "                           max_depth=4, n_estimators=50)\n",
      "Optimized_GBC Confusion  matrix:\n",
      "[[7944 1578]\n",
      " [ 315  961]]\n",
      "\n",
      "Optimized_GBC accuracy mean: 0.8482214184165129\n",
      "Optimized_GBC accuracy std dev: 0.0036659916558011555\n",
      "Optimized_GBC preciosn score: 0.37849547065773925\n",
      "Optimized_GBC recall score: 0.7531347962382445\n",
      "Optimized_GBC f1 score: 0.5038007863695936\n",
      "Optimized_GBC Optimized AUC test: 0.7937066545778494\n",
      "\n",
      "Classification report: \n",
      "              precision    recall  f1-score   support\n",
      "\n",
      "           0       0.96      0.83      0.89      9522\n",
      "           1       0.38      0.75      0.50      1276\n",
      "\n",
      "    accuracy                           0.82     10798\n",
      "   macro avg       0.67      0.79      0.70     10798\n",
      "weighted avg       0.89      0.82      0.85     10798\n",
      "\n",
      "Time taken: 41.51646542549133\n",
      "**************************************************\n",
      "Report for AdaBoostClassifier(algorithm='SAMME', n_estimators=150)\n",
      "Optimized_ABC Confusion  matrix:\n",
      "[[7712 1810]\n",
      " [ 264 1012]]\n",
      "\n",
      "Optimized_ABC accuracy mean: 0.8151463437146729\n",
      "Optimized_ABC accuracy std dev: 0.004567068075204128\n",
      "Optimized_ABC preciosn score: 0.3586109142452162\n",
      "Optimized_ABC recall score: 0.7931034482758621\n",
      "Optimized_ABC f1 score: 0.49389946315275757\n",
      "Optimized_ABC Optimized AUC test: 0.8015086659568766\n",
      "\n",
      "Classification report: \n",
      "              precision    recall  f1-score   support\n",
      "\n",
      "           0       0.97      0.81      0.88      9522\n",
      "           1       0.36      0.79      0.49      1276\n",
      "\n",
      "    accuracy                           0.81     10798\n",
      "   macro avg       0.66      0.80      0.69     10798\n",
      "weighted avg       0.90      0.81      0.84     10798\n",
      "\n",
      "Time taken: 49.14519739151001\n",
      "**************************************************\n"
     ]
    }
   ],
   "source": [
    "opt_models = {'Optimized_LR': LogisticRegression(n_jobs=-1, penalty= 'l2'),\n",
    "        'Optimized_GBC': GradientBoostingClassifier(n_estimators= 50,max_depth= 4,loss= 'exponential',learning_rate= 1,criterion= 'mse'),\n",
    "              'Optimized_ABC': AdaBoostClassifier(n_estimators= 150, learning_rate= 1.0, algorithm= 'SAMME')}\n",
    "\n",
    "log = ''\n",
    "\n",
    "for name, classifier in opt_models.items():\n",
    "    classifier.fit(x_train, y_train)\n",
    "    y_pred = classifier.predict(x_test)\n",
    "    report = get_opt_report(name, classifier, x_train, y_train, y_test, y_pred)\n",
    "    print(report)\n",
    "    log += report\n",
    "    log += '\\n'\n"
   ]
  },
  {
   "cell_type": "code",
   "execution_count": 89,
   "metadata": {},
   "outputs": [],
   "source": [
    "with open('opt_logs\\opt_log_report.log', 'w') as writer:\n",
    "        writer.write(log)"
   ]
  },
  {
   "cell_type": "code",
   "execution_count": 90,
   "metadata": {},
   "outputs": [],
   "source": [
    "# with open('opt_logs\\optimized_hyperparameter.log', 'w') as writer:\n",
    "#         writer.write(hyperparameters)"
   ]
  },
  {
   "cell_type": "code",
   "execution_count": 91,
   "metadata": {},
   "outputs": [],
   "source": [
    "df_opt_result = pd.DataFrame({'Classifier': opt_names, 'Results': opt_aucs})"
   ]
  },
  {
   "cell_type": "code",
   "execution_count": 92,
   "metadata": {},
   "outputs": [
    {
     "data": {
      "text/html": [
       "<div>\n",
       "<style scoped>\n",
       "    .dataframe tbody tr th:only-of-type {\n",
       "        vertical-align: middle;\n",
       "    }\n",
       "\n",
       "    .dataframe tbody tr th {\n",
       "        vertical-align: top;\n",
       "    }\n",
       "\n",
       "    .dataframe thead th {\n",
       "        text-align: right;\n",
       "    }\n",
       "</style>\n",
       "<table border=\"1\" class=\"dataframe\">\n",
       "  <thead>\n",
       "    <tr style=\"text-align: right;\">\n",
       "      <th></th>\n",
       "      <th>Classifier</th>\n",
       "      <th>Results</th>\n",
       "    </tr>\n",
       "  </thead>\n",
       "  <tbody>\n",
       "    <tr>\n",
       "      <th>2</th>\n",
       "      <td>Optimized_ABC</td>\n",
       "      <td>0.801509</td>\n",
       "    </tr>\n",
       "    <tr>\n",
       "      <th>1</th>\n",
       "      <td>Optimized_GBC</td>\n",
       "      <td>0.793707</td>\n",
       "    </tr>\n",
       "    <tr>\n",
       "      <th>0</th>\n",
       "      <td>Optimized_LR</td>\n",
       "      <td>0.786050</td>\n",
       "    </tr>\n",
       "  </tbody>\n",
       "</table>\n",
       "</div>"
      ],
      "text/plain": [
       "      Classifier   Results\n",
       "2  Optimized_ABC  0.801509\n",
       "1  Optimized_GBC  0.793707\n",
       "0   Optimized_LR  0.786050"
      ]
     },
     "execution_count": 92,
     "metadata": {},
     "output_type": "execute_result"
    }
   ],
   "source": [
    "df_opt_result.sort_values('Results', ascending = False)"
   ]
  },
  {
   "cell_type": "code",
   "execution_count": 93,
   "metadata": {},
   "outputs": [],
   "source": [
    "opt_results_dict =  df_opt_result.set_index('Classifier')['Results'].to_dict()"
   ]
  },
  {
   "cell_type": "code",
   "execution_count": 94,
   "metadata": {},
   "outputs": [],
   "source": [
    "df_opt_results = pd.DataFrame({'classifier':['LR','LR','GBC','GBC','ABC','ABC'],\n",
    "                           'data_set':['baseline','optimized']*3,\n",
    "                          'auc':[base_results_dict['LR'], opt_results_dict['Optimized_LR'],\n",
    "                                 base_results_dict['GBC'] , opt_results_dict['Optimized_GBC'],\n",
    "                                 base_results_dict['ABC'], opt_results_dict['Optimized_ABC']\n",
    "                                ]\n",
    "                          })"
   ]
  },
  {
   "cell_type": "code",
   "execution_count": 95,
   "metadata": {},
   "outputs": [
    {
     "data": {
      "text/html": [
       "<div>\n",
       "<style scoped>\n",
       "    .dataframe tbody tr th:only-of-type {\n",
       "        vertical-align: middle;\n",
       "    }\n",
       "\n",
       "    .dataframe tbody tr th {\n",
       "        vertical-align: top;\n",
       "    }\n",
       "\n",
       "    .dataframe thead th {\n",
       "        text-align: right;\n",
       "    }\n",
       "</style>\n",
       "<table border=\"1\" class=\"dataframe\">\n",
       "  <thead>\n",
       "    <tr style=\"text-align: right;\">\n",
       "      <th></th>\n",
       "      <th>classifier</th>\n",
       "      <th>data_set</th>\n",
       "      <th>auc</th>\n",
       "    </tr>\n",
       "  </thead>\n",
       "  <tbody>\n",
       "    <tr>\n",
       "      <th>0</th>\n",
       "      <td>LR</td>\n",
       "      <td>baseline</td>\n",
       "      <td>0.786050</td>\n",
       "    </tr>\n",
       "    <tr>\n",
       "      <th>1</th>\n",
       "      <td>LR</td>\n",
       "      <td>optimized</td>\n",
       "      <td>0.786050</td>\n",
       "    </tr>\n",
       "    <tr>\n",
       "      <th>2</th>\n",
       "      <td>GBC</td>\n",
       "      <td>baseline</td>\n",
       "      <td>0.804623</td>\n",
       "    </tr>\n",
       "    <tr>\n",
       "      <th>3</th>\n",
       "      <td>GBC</td>\n",
       "      <td>optimized</td>\n",
       "      <td>0.793707</td>\n",
       "    </tr>\n",
       "    <tr>\n",
       "      <th>4</th>\n",
       "      <td>ABC</td>\n",
       "      <td>baseline</td>\n",
       "      <td>0.803589</td>\n",
       "    </tr>\n",
       "    <tr>\n",
       "      <th>5</th>\n",
       "      <td>ABC</td>\n",
       "      <td>optimized</td>\n",
       "      <td>0.801509</td>\n",
       "    </tr>\n",
       "  </tbody>\n",
       "</table>\n",
       "</div>"
      ],
      "text/plain": [
       "  classifier   data_set       auc\n",
       "0         LR   baseline  0.786050\n",
       "1         LR  optimized  0.786050\n",
       "2        GBC   baseline  0.804623\n",
       "3        GBC  optimized  0.793707\n",
       "4        ABC   baseline  0.803589\n",
       "5        ABC  optimized  0.801509"
      ]
     },
     "execution_count": 95,
     "metadata": {},
     "output_type": "execute_result"
    }
   ],
   "source": [
    "df_opt_results"
   ]
  },
  {
   "cell_type": "code",
   "execution_count": 96,
   "metadata": {},
   "outputs": [
    {
     "data": {
      "image/png": "[encoded data removed]",
      "text/plain": [
       "<Figure size 432x288 with 1 Axes>"
      ]
     },
     "metadata": {},
     "output_type": "display_data"
    }
   ],
   "source": [
    "sns.set(style=\"darkgrid\")\n",
    "\n",
    "ax = sns.barplot(x=\"classifier\", y=\"auc\", hue=\"data_set\", data=df_opt_results)\n",
    "ax.set_xlabel('Classifier',fontsize = 15)\n",
    "ax.set_ylabel('AUC', fontsize = 15)\n",
    "ax.tick_params(labelsize=15)\n",
    "\n",
    "# Put the legend out of the figure\n",
    "plt.legend(bbox_to_anchor=(1.05, 1), loc=2, borderaxespad=0., fontsize = 15)\n",
    "\n",
    "plt.show()"
   ]
  },
  {
   "cell_type": "markdown",
   "metadata": {},
   "source": [
    "## Finalizing the Model\n",
    "- Though all the top 3 Models are performing equally well. We will choose the **Optimzed AdaBoostClassifer** as our final model.\n",
    "- **AdaBoostClassifer** is giving us an *accuracy mean, and an AUC of 0.81.*"
   ]
  },
  {
   "cell_type": "markdown",
   "metadata": {},
   "source": [
    "### ROC Curve\n",
    "An ROC curve (receiver operating characteristic curve) is a graph showing the performance of a classification model at all classification thresholds. This curve plots two parameters:\n",
    "\n",
    "- **True Positive Rate:** The true positive rate (TPR, also called sensitivity) is calculated as TP/TP+FN. TPR is the probability that an actual positive will test positive.\n",
    "- **False Positive Rate:** The false positive rate is calculated as FP/FP+TN. TPR is the probability that an actual negative will test positive."
   ]
  },
  {
   "cell_type": "code",
   "execution_count": 97,
   "metadata": {
    "scrolled": false
   },
   "outputs": [
    {
     "data": {
      "image/png": "[encoded data removed]",
      "text/plain": [
       "<Figure size 432x288 with 1 Axes>"
      ]
     },
     "metadata": {},
     "output_type": "display_data"
    }
   ],
   "source": [
    "from sklearn.metrics import roc_curve \n",
    "\n",
    "false_pr_test, true_pr_test, thresholds_test = roc_curve(y_test, opt_models[\"Optimized_ABC\"].predict_proba(x_test)[:,1])\n",
    "\n",
    "auc_test = opt_aucs[2]\n",
    "\n",
    "plt.plot(false_pr_test, true_pr_test, 'g-',label ='AUC:%.3f'%auc_test)\n",
    "plt.plot([0,1],[0,1],'k--')\n",
    "plt.xlabel('False Positive Rate')\n",
    "plt.ylabel('True Positive Rate')\n",
    "\n",
    "plt.legend()\n",
    "plt.show()"
   ]
  },
  {
   "cell_type": "markdown",
   "metadata": {},
   "source": [
    "- The AUC achieved by this model is 80%.\n",
    "- It means the model gives us 30% better results over randomly guessing."
   ]
  },
  {
   "cell_type": "markdown",
   "metadata": {},
   "source": [
    "### Important Features\n",
    "Let's have a look at the features important for our prediction and try to found how much importnat each of the available feature is."
   ]
  },
  {
   "cell_type": "code",
   "execution_count": 98,
   "metadata": {
    "scrolled": true
   },
   "outputs": [
    {
     "data": {
      "text/html": [
       "<div>\n",
       "<style scoped>\n",
       "    .dataframe tbody tr th:only-of-type {\n",
       "        vertical-align: middle;\n",
       "    }\n",
       "\n",
       "    .dataframe tbody tr th {\n",
       "        vertical-align: top;\n",
       "    }\n",
       "\n",
       "    .dataframe thead th {\n",
       "        text-align: right;\n",
       "    }\n",
       "</style>\n",
       "<table border=\"1\" class=\"dataframe\">\n",
       "  <thead>\n",
       "    <tr style=\"text-align: right;\">\n",
       "      <th></th>\n",
       "      <th>importance</th>\n",
       "    </tr>\n",
       "  </thead>\n",
       "  <tbody>\n",
       "    <tr>\n",
       "      <th>duration</th>\n",
       "      <td>0.430689</td>\n",
       "    </tr>\n",
       "    <tr>\n",
       "      <th>pdays</th>\n",
       "      <td>0.156262</td>\n",
       "    </tr>\n",
       "    <tr>\n",
       "      <th>age</th>\n",
       "      <td>0.108200</td>\n",
       "    </tr>\n",
       "    <tr>\n",
       "      <th>poutcome</th>\n",
       "      <td>0.080040</td>\n",
       "    </tr>\n",
       "    <tr>\n",
       "      <th>housing</th>\n",
       "      <td>0.053371</td>\n",
       "    </tr>\n",
       "  </tbody>\n",
       "</table>\n",
       "</div>"
      ],
      "text/plain": [
       "          importance\n",
       "duration    0.430689\n",
       "pdays       0.156262\n",
       "age         0.108200\n",
       "poutcome    0.080040\n",
       "housing     0.053371"
      ]
     },
     "execution_count": 98,
     "metadata": {},
     "output_type": "execute_result"
    }
   ],
   "source": [
    "model_columns = list(df_model.columns)[:-1]\n",
    "\n",
    "feature_importances = pd.DataFrame(opt_models[\"Optimized_ABC\"].feature_importances_, index = model_columns, columns=['importance']).sort_values('importance', ascending=False)\n",
    "feature_importances.head()"
   ]
  },
  {
   "cell_type": "code",
   "execution_count": 99,
   "metadata": {
    "scrolled": true
   },
   "outputs": [
    {
     "data": {
      "text/plain": [
       "Index(['duration', 'pdays', 'age', 'poutcome', 'housing', 'balance',\n",
       "       'campaign', 'job_blue-collar', 'education', 'loan', 'job_student',\n",
       "       'marital_married', 'job_entrepreneur', 'job_self-employed',\n",
       "       'job_housemaid', 'job_services', 'job_admin.', 'job_management',\n",
       "       'job_retired', 'job_technician', 'job_unemployed', 'marital_divorced',\n",
       "       'marital_single'],\n",
       "      dtype='object')"
      ]
     },
     "execution_count": 99,
     "metadata": {},
     "output_type": "execute_result"
    }
   ],
   "source": [
    "feature_importances.index"
   ]
  },
  {
   "cell_type": "code",
   "execution_count": 100,
   "metadata": {
    "scrolled": false
   },
   "outputs": [
    {
     "data": {
      "image/png": "[encoded data removed]",
      "text/plain": [
       "<Figure size 960x640 with 1 Axes>"
      ]
     },
     "metadata": {},
     "output_type": "display_data"
    }
   ],
   "source": [
    "plt.figure(num=None, figsize=(12, 8), dpi=80, facecolor='w', edgecolor='k')\n",
    "plt.barh(feature_importances.index[::-1], feature_importances[\"importance\"][::-1], align=\"center\")\n",
    "plt.ylabel('Features')\n",
    "plt.xlabel('Importance Score')\n",
    "plt.title('Feature Importance Score - Ada-Boost')\n",
    "plt.grid(axis = 'y')\n",
    "plt.show()\n",
    "\n",
    "# The graph below will show the contribution of each featuure in the final prediction"
   ]
  },
  {
   "cell_type": "code",
   "execution_count": 101,
   "metadata": {},
   "outputs": [
    {
     "data": {
      "text/plain": [
       "['duration', 'pdays']"
      ]
     },
     "execution_count": 101,
     "metadata": {},
     "output_type": "execute_result"
    }
   ],
   "source": [
    "important_features = list(feature_importances.index)[:2]\n",
    "important_features"
   ]
  },
  {
   "cell_type": "markdown",
   "metadata": {},
   "source": [
    "### Let's try to describe our Subscribing customers on the basis of important features"
   ]
  },
  {
   "cell_type": "code",
   "execution_count": 102,
   "metadata": {
    "scrolled": false
   },
   "outputs": [
    {
     "data": {
      "text/html": [
       "<div>\n",
       "<style scoped>\n",
       "    .dataframe tbody tr th:only-of-type {\n",
       "        vertical-align: middle;\n",
       "    }\n",
       "\n",
       "    .dataframe tbody tr th {\n",
       "        vertical-align: top;\n",
       "    }\n",
       "\n",
       "    .dataframe thead th {\n",
       "        text-align: right;\n",
       "    }\n",
       "</style>\n",
       "<table border=\"1\" class=\"dataframe\">\n",
       "  <thead>\n",
       "    <tr style=\"text-align: right;\">\n",
       "      <th></th>\n",
       "      <th>duration</th>\n",
       "      <th>pdays</th>\n",
       "    </tr>\n",
       "  </thead>\n",
       "  <tbody>\n",
       "    <tr>\n",
       "      <th>count</th>\n",
       "      <td>5021.000000</td>\n",
       "      <td>5021.000000</td>\n",
       "    </tr>\n",
       "    <tr>\n",
       "      <th>mean</th>\n",
       "      <td>497.851042</td>\n",
       "      <td>69.134435</td>\n",
       "    </tr>\n",
       "    <tr>\n",
       "      <th>std</th>\n",
       "      <td>323.040606</td>\n",
       "      <td>118.621814</td>\n",
       "    </tr>\n",
       "    <tr>\n",
       "      <th>min</th>\n",
       "      <td>8.000000</td>\n",
       "      <td>0.000000</td>\n",
       "    </tr>\n",
       "    <tr>\n",
       "      <th>25%</th>\n",
       "      <td>243.000000</td>\n",
       "      <td>0.000000</td>\n",
       "    </tr>\n",
       "    <tr>\n",
       "      <th>50%</th>\n",
       "      <td>407.000000</td>\n",
       "      <td>0.000000</td>\n",
       "    </tr>\n",
       "    <tr>\n",
       "      <th>75%</th>\n",
       "      <td>694.000000</td>\n",
       "      <td>98.000000</td>\n",
       "    </tr>\n",
       "    <tr>\n",
       "      <th>max</th>\n",
       "      <td>1500.000000</td>\n",
       "      <td>854.000000</td>\n",
       "    </tr>\n",
       "  </tbody>\n",
       "</table>\n",
       "</div>"
      ],
      "text/plain": [
       "          duration        pdays\n",
       "count  5021.000000  5021.000000\n",
       "mean    497.851042    69.134435\n",
       "std     323.040606   118.621814\n",
       "min       8.000000     0.000000\n",
       "25%     243.000000     0.000000\n",
       "50%     407.000000     0.000000\n",
       "75%     694.000000    98.000000\n",
       "max    1500.000000   854.000000"
      ]
     },
     "execution_count": 102,
     "metadata": {},
     "output_type": "execute_result"
    }
   ],
   "source": [
    "df_sub = df_model[df_model['subscribed']==1][important_features]\n",
    "df_sub.describe()"
   ]
  },
  {
   "cell_type": "markdown",
   "metadata": {},
   "source": [
    "### Let's try to describe our Non-Subscribing customers on the basis of important features"
   ]
  },
  {
   "cell_type": "code",
   "execution_count": 103,
   "metadata": {},
   "outputs": [
    {
     "data": {
      "text/html": [
       "<div>\n",
       "<style scoped>\n",
       "    .dataframe tbody tr th:only-of-type {\n",
       "        vertical-align: middle;\n",
       "    }\n",
       "\n",
       "    .dataframe tbody tr th {\n",
       "        vertical-align: top;\n",
       "    }\n",
       "\n",
       "    .dataframe thead th {\n",
       "        text-align: right;\n",
       "    }\n",
       "</style>\n",
       "<table border=\"1\" class=\"dataframe\">\n",
       "  <thead>\n",
       "    <tr style=\"text-align: right;\">\n",
       "      <th></th>\n",
       "      <th>duration</th>\n",
       "      <th>pdays</th>\n",
       "    </tr>\n",
       "  </thead>\n",
       "  <tbody>\n",
       "    <tr>\n",
       "      <th>count</th>\n",
       "      <td>38169.000000</td>\n",
       "      <td>38169.000000</td>\n",
       "    </tr>\n",
       "    <tr>\n",
       "      <th>mean</th>\n",
       "      <td>217.186601</td>\n",
       "      <td>37.552202</td>\n",
       "    </tr>\n",
       "    <tr>\n",
       "      <th>std</th>\n",
       "      <td>186.895084</td>\n",
       "      <td>96.791154</td>\n",
       "    </tr>\n",
       "    <tr>\n",
       "      <th>min</th>\n",
       "      <td>1.000000</td>\n",
       "      <td>0.000000</td>\n",
       "    </tr>\n",
       "    <tr>\n",
       "      <th>25%</th>\n",
       "      <td>96.000000</td>\n",
       "      <td>0.000000</td>\n",
       "    </tr>\n",
       "    <tr>\n",
       "      <th>50%</th>\n",
       "      <td>164.000000</td>\n",
       "      <td>0.000000</td>\n",
       "    </tr>\n",
       "    <tr>\n",
       "      <th>75%</th>\n",
       "      <td>277.000000</td>\n",
       "      <td>0.000000</td>\n",
       "    </tr>\n",
       "    <tr>\n",
       "      <th>max</th>\n",
       "      <td>1495.000000</td>\n",
       "      <td>871.000000</td>\n",
       "    </tr>\n",
       "  </tbody>\n",
       "</table>\n",
       "</div>"
      ],
      "text/plain": [
       "           duration         pdays\n",
       "count  38169.000000  38169.000000\n",
       "mean     217.186601     37.552202\n",
       "std      186.895084     96.791154\n",
       "min        1.000000      0.000000\n",
       "25%       96.000000      0.000000\n",
       "50%      164.000000      0.000000\n",
       "75%      277.000000      0.000000\n",
       "max     1495.000000    871.000000"
      ]
     },
     "execution_count": 103,
     "metadata": {},
     "output_type": "execute_result"
    }
   ],
   "source": [
    "df_no_sub = df_model[df_model['subscribed']==0][important_features]\n",
    "df_no_sub.describe()"
   ]
  },
  {
   "cell_type": "code",
   "execution_count": 104,
   "metadata": {
    "scrolled": false
   },
   "outputs": [
    {
     "data": {
      "image/png": "[encoded data removed]",
      "text/plain": [
       "<Figure size 864x288 with 2 Axes>"
      ]
     },
     "metadata": {},
     "output_type": "display_data"
    }
   ],
   "source": [
    "for feature_index in range(0, len(important_features), 2):\n",
    "    plt.figure(figsize=(12,4))\n",
    "    \n",
    "    plt.subplot(1, 2, 1)\n",
    "    sns.boxplot(x='subscribed', y=important_features[feature_index], data=df_model)\n",
    "    \n",
    "    feature_index += 1\n",
    "    plt.subplot(1, 2, 2)\n",
    "    sns.boxplot(x='subscribed', y=important_features[feature_index], data=df_model)\n",
    "    \n",
    "    plt.tight_layout()\n",
    "    plt.show()"
   ]
  },
  {
   "cell_type": "markdown",
   "metadata": {},
   "source": [
    "### Deployment of the selected model\n",
    "- We can now use the pickle module to save our model in a pickle file.\n",
    "- We can then use the pickle file for the deployment of our model with flask.\n",
    "- The final deployed project will be a flask web application."
   ]
  },
  {
   "cell_type": "markdown",
   "metadata": {},
   "source": [
    "## Conclusion\n",
    "- We have created a machine learning model that is able to predict how likely clients will subscribe to a bank term deposit. The best model was AdaBoost Classifier. The model's performance accuracy is 81%.\n",
    "- We should focus on targeting customers with higher call duration as they are high importance features for the model and business.\n",
    "- For the 'duration' feature the value of first quartile is 243 we should focus on the customers with whom we are having  communications this long.  \n",
    "- Instead of reaching out to more customers on a certain date of the month the campaigners\n",
    "- Though We can't see any clear cut representation of subscribers having a specific range of account balance, still we should focus more on the customers having an account balance of more than 203 Euros as it is the first quartile values for  the same.\n",
    "- Therefore, we save time and money knowing the characteristics of clients we should market to and that will lead to increased growth and revenue.\n",
    "- We have executed and tested all the models multiple times meanwhile logging each test run in different log files.\n",
    "- The log files can be used as a reference when trying to modify/revise the current model in future.\n"
   ]
  }
 ],
 "metadata": {
  "kernelspec": {
   "display_name": "Python 3",
   "language": "python",
   "name": "python3"
  },
  "language_info": {
   "codemirror_mode": {
    "name": "ipython",
    "version": 3
   },
   "file_extension": ".py",
   "mimetype": "text/x-python",
   "name": "python",
   "nbconvert_exporter": "python",
   "pygments_lexer": "ipython3",
   "version": "3.8.5"
  }
 },
 "nbformat": 4,
 "nbformat_minor": 4
}
